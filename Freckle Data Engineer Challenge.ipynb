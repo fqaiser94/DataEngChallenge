{
 "cells": [
  {
   "cell_type": "markdown",
   "metadata": {},
   "source": [
    "# Freckle Data Engineer Challenge\n",
    "*22 Oct 2017  \n",
    "Farooq Qaiser* "
   ]
  },
  {
   "cell_type": "markdown",
   "metadata": {},
   "source": [
    "## Admin  "
   ]
  },
  {
   "cell_type": "markdown",
   "metadata": {},
   "source": [
    "initialize PySpark"
   ]
  },
  {
   "cell_type": "code",
   "execution_count": 2,
   "metadata": {},
   "outputs": [],
   "source": [
    "import findspark\n",
    "\n",
    "findspark.init()"
   ]
  },
  {
   "cell_type": "code",
   "execution_count": 3,
   "metadata": {},
   "outputs": [],
   "source": [
    "from pyspark.sql import SparkSession\n",
    "\n",
    "spark = SparkSession \\\n",
    "    .builder \\\n",
    "    .appName(\"Freckle_challenge\") \\\n",
    "    .config(\"spark.some.config.option\", \"some-value\") \\\n",
    "    .getOrCreate()"
   ]
  },
  {
   "cell_type": "markdown",
   "metadata": {},
   "source": [
    "Load some of the basic libraries (we'll load others as we need them). "
   ]
  },
  {
   "cell_type": "code",
   "execution_count": 5,
   "metadata": {},
   "outputs": [],
   "source": [
    "from pyspark.sql import functions as func\n",
    "\n",
    "import numpy as np\n",
    "import matplotlib.pyplot as plt\n",
    "import pandas as pd"
   ]
  },
  {
   "cell_type": "markdown",
   "metadata": {},
   "source": [
    "Set some display options. "
   ]
  },
  {
   "cell_type": "code",
   "execution_count": 6,
   "metadata": {},
   "outputs": [],
   "source": [
    "# show plots inline\n",
    "%matplotlib inline"
   ]
  },
  {
   "cell_type": "markdown",
   "metadata": {},
   "source": [
    "Set some parameters.  "
   ]
  },
  {
   "cell_type": "code",
   "execution_count": 12,
   "metadata": {},
   "outputs": [],
   "source": [
    "seed = 1\n",
    "\n",
    "input_path = \"/home/fqaiser94/Data Engineer Challenge/location-data-sample/*.gz\""
   ]
  },
  {
   "cell_type": "markdown",
   "metadata": {},
   "source": [
    "Read in data as dataframe"
   ]
  },
  {
   "cell_type": "code",
   "execution_count": 31,
   "metadata": {},
   "outputs": [],
   "source": [
    "df = spark.read.json(input_path)"
   ]
  },
  {
   "cell_type": "markdown",
   "metadata": {},
   "source": [
    "## RDD vs Dataframe\n",
    "\n",
    "**RE: The expectation for this exercise is that you use Spark 2.x with Scala, Python, or Java. You can use the RDD or Dataframe APIs as you see fit, but please be ready to explain your choices.**  \n",
    "\n",
    "\n",
    "I chose to use the Dataframe API over RDD API because:  \n",
    "1. Dataframe API is able to take advantage of Spark’s Catalyst optimizer by exposing expressions and data fields to a query planner.\n",
    "2. Dataframe API has speed advantage in most cases (see [here](http://www.adsquare.com/comparing-performance-of-spark-dataframes-api-to-spark-rdd/)). \n",
    "3. I find Dataframes an easier construction to work with  \n",
    "\n",
    "There is obviously also the new Dataset API, which I know little about but apparently it combines the best of both worlds ..."
   ]
  },
  {
   "cell_type": "markdown",
   "metadata": {},
   "source": [
    "## EDA\n",
    "\n",
    "Always helpful to do some EDA to understand our data before diving in.  \n",
    "Lets take a look at the dataframes schema.  "
   ]
  },
  {
   "cell_type": "code",
   "execution_count": 17,
   "metadata": {},
   "outputs": [
    {
     "name": "stdout",
     "output_type": "stream",
     "text": [
      "root\n",
      " |-- action: string (nullable = true)\n",
      " |-- api_key: string (nullable = true)\n",
      " |-- app_id: string (nullable = true)\n",
      " |-- beacon_major: long (nullable = true)\n",
      " |-- beacon_minor: long (nullable = true)\n",
      " |-- beacon_uuid: string (nullable = true)\n",
      " |-- city: string (nullable = true)\n",
      " |-- code: string (nullable = true)\n",
      " |-- community: string (nullable = true)\n",
      " |-- community_code: string (nullable = true)\n",
      " |-- country_code: string (nullable = true)\n",
      " |-- county: string (nullable = true)\n",
      " |-- county_code: string (nullable = true)\n",
      " |-- event_time: long (nullable = true)\n",
      " |-- geohash: string (nullable = true)\n",
      " |-- horizontal_accuracy: double (nullable = true)\n",
      " |-- idfa: string (nullable = true)\n",
      " |-- idfa_hash_alg: string (nullable = true)\n",
      " |-- lat: double (nullable = true)\n",
      " |-- lng: double (nullable = true)\n",
      " |-- place: string (nullable = true)\n",
      " |-- platform: string (nullable = true)\n",
      " |-- state: string (nullable = true)\n",
      " |-- state_code: string (nullable = true)\n",
      " |-- user_ip: string (nullable = true)\n",
      "\n"
     ]
    }
   ],
   "source": [
    "df.printSchema()"
   ]
  },
  {
   "cell_type": "markdown",
   "metadata": {},
   "source": [
    "Humm that's a lot of columns, let's take a peek at our data. "
   ]
  },
  {
   "cell_type": "code",
   "execution_count": 20,
   "metadata": {},
   "outputs": [],
   "source": [
    "# show all columns\n",
    "pd.set_option('display.max_columns', None)"
   ]
  },
  {
   "cell_type": "code",
   "execution_count": 21,
   "metadata": {
    "scrolled": false
   },
   "outputs": [
    {
     "data": {
      "text/html": [
       "<div>\n",
       "<style>\n",
       "    .dataframe thead tr:only-child th {\n",
       "        text-align: right;\n",
       "    }\n",
       "\n",
       "    .dataframe thead th {\n",
       "        text-align: left;\n",
       "    }\n",
       "\n",
       "    .dataframe tbody tr th {\n",
       "        vertical-align: top;\n",
       "    }\n",
       "</style>\n",
       "<table border=\"1\" class=\"dataframe\">\n",
       "  <thead>\n",
       "    <tr style=\"text-align: right;\">\n",
       "      <th></th>\n",
       "      <th>action</th>\n",
       "      <th>api_key</th>\n",
       "      <th>app_id</th>\n",
       "      <th>beacon_major</th>\n",
       "      <th>beacon_minor</th>\n",
       "      <th>beacon_uuid</th>\n",
       "      <th>city</th>\n",
       "      <th>code</th>\n",
       "      <th>community</th>\n",
       "      <th>community_code</th>\n",
       "      <th>country_code</th>\n",
       "      <th>county</th>\n",
       "      <th>county_code</th>\n",
       "      <th>event_time</th>\n",
       "      <th>geohash</th>\n",
       "      <th>horizontal_accuracy</th>\n",
       "      <th>idfa</th>\n",
       "      <th>idfa_hash_alg</th>\n",
       "      <th>lat</th>\n",
       "      <th>lng</th>\n",
       "      <th>place</th>\n",
       "      <th>platform</th>\n",
       "      <th>state</th>\n",
       "      <th>state_code</th>\n",
       "      <th>user_ip</th>\n",
       "    </tr>\n",
       "  </thead>\n",
       "  <tbody>\n",
       "    <tr>\n",
       "      <th>0</th>\n",
       "      <td>listrequest</td>\n",
       "      <td>9c4523f4cde116f32bf370656b35129cd9ced93c6ce6c1246</td>\n",
       "      <td>smartphones.collegescoreboard.football</td>\n",
       "      <td>0</td>\n",
       "      <td>0</td>\n",
       "      <td></td>\n",
       "      <td>Littleton</td>\n",
       "      <td>80123</td>\n",
       "      <td></td>\n",
       "      <td></td>\n",
       "      <td>US</td>\n",
       "      <td>Jefferson</td>\n",
       "      <td>059</td>\n",
       "      <td>1491066280</td>\n",
       "      <td>9xj32w4r1z1m</td>\n",
       "      <td>0.0</td>\n",
       "      <td>c50ab245-d660-435e-a226-8d311d2aebbf</td>\n",
       "      <td></td>\n",
       "      <td>39.628926</td>\n",
       "      <td>-105.092048</td>\n",
       "      <td>Littleton</td>\n",
       "      <td>android</td>\n",
       "      <td>Colorado</td>\n",
       "      <td>CO</td>\n",
       "      <td>184.96.241.157</td>\n",
       "    </tr>\n",
       "    <tr>\n",
       "      <th>1</th>\n",
       "      <td>virtual_beacon_list_request</td>\n",
       "      <td>9de1430e73cc96f15272a8a081d127746d3d4ef3d123b6adb</td>\n",
       "      <td>com.airkast.kbxxfm</td>\n",
       "      <td>0</td>\n",
       "      <td>0</td>\n",
       "      <td></td>\n",
       "      <td>Houston</td>\n",
       "      <td>77067</td>\n",
       "      <td></td>\n",
       "      <td></td>\n",
       "      <td>US</td>\n",
       "      <td>Harris</td>\n",
       "      <td>201</td>\n",
       "      <td>1491066280</td>\n",
       "      <td>9vk47vts9tx0</td>\n",
       "      <td>9.0</td>\n",
       "      <td>8c14186b-070d-4933-a28f-a64e97afbb96</td>\n",
       "      <td></td>\n",
       "      <td>29.957772</td>\n",
       "      <td>-95.452578</td>\n",
       "      <td>Houston</td>\n",
       "      <td>android</td>\n",
       "      <td>Texas</td>\n",
       "      <td>TX</td>\n",
       "      <td>45.18.76.214</td>\n",
       "    </tr>\n",
       "    <tr>\n",
       "      <th>2</th>\n",
       "      <td>listrequest</td>\n",
       "      <td>9c4523f4cde116f32bf370656b35129cd9ced93c6ce6c1246</td>\n",
       "      <td>smartphones.collegescoreboard.football</td>\n",
       "      <td>0</td>\n",
       "      <td>0</td>\n",
       "      <td></td>\n",
       "      <td>Groton</td>\n",
       "      <td>01450</td>\n",
       "      <td></td>\n",
       "      <td></td>\n",
       "      <td>US</td>\n",
       "      <td>Middlesex</td>\n",
       "      <td>017</td>\n",
       "      <td>1491066280</td>\n",
       "      <td>drt4k62nrypf</td>\n",
       "      <td>0.0</td>\n",
       "      <td>1ed5c7d3-6b7b-4cbe-a726-7429eb1828c0</td>\n",
       "      <td></td>\n",
       "      <td>42.596473</td>\n",
       "      <td>-71.531639</td>\n",
       "      <td>Groton</td>\n",
       "      <td>android</td>\n",
       "      <td>Massachusetts</td>\n",
       "      <td>MA</td>\n",
       "      <td>174.192.25.246</td>\n",
       "    </tr>\n",
       "    <tr>\n",
       "      <th>3</th>\n",
       "      <td>listrequest</td>\n",
       "      <td>e9d18b6c1b97cd776b1cd0c034a46738493151dc8e512acf0</td>\n",
       "      <td>com.checkout51.rc</td>\n",
       "      <td>0</td>\n",
       "      <td>0</td>\n",
       "      <td></td>\n",
       "      <td>Media</td>\n",
       "      <td>19063</td>\n",
       "      <td></td>\n",
       "      <td></td>\n",
       "      <td>US</td>\n",
       "      <td>Delaware</td>\n",
       "      <td>045</td>\n",
       "      <td>1491066280</td>\n",
       "      <td>dr475f915hgy</td>\n",
       "      <td>0.0</td>\n",
       "      <td>9350ce13-d0a3-422b-a047-0f534d69c217</td>\n",
       "      <td></td>\n",
       "      <td>39.916275</td>\n",
       "      <td>-75.419635</td>\n",
       "      <td>Media</td>\n",
       "      <td>ios</td>\n",
       "      <td>Pennsylvania</td>\n",
       "      <td>PA</td>\n",
       "      <td>107.77.204.113</td>\n",
       "    </tr>\n",
       "    <tr>\n",
       "      <th>4</th>\n",
       "      <td>listrequest</td>\n",
       "      <td>9c4523f4cde116f32bf370656b35129cd9ced93c6ce6c1246</td>\n",
       "      <td>smartphones.collegescoreboard.football</td>\n",
       "      <td>0</td>\n",
       "      <td>0</td>\n",
       "      <td></td>\n",
       "      <td>Paw Paw</td>\n",
       "      <td>49079</td>\n",
       "      <td></td>\n",
       "      <td></td>\n",
       "      <td>US</td>\n",
       "      <td>Van Buren</td>\n",
       "      <td>159</td>\n",
       "      <td>1491066280</td>\n",
       "      <td>dp6zvrr3u6wk</td>\n",
       "      <td>0.0</td>\n",
       "      <td>a6e440f4-695b-42b2-a149-b6da243d7ea5</td>\n",
       "      <td></td>\n",
       "      <td>42.183695</td>\n",
       "      <td>-85.891952</td>\n",
       "      <td>Paw Paw</td>\n",
       "      <td>android</td>\n",
       "      <td>Michigan</td>\n",
       "      <td>MI</td>\n",
       "      <td>50.107.82.231</td>\n",
       "    </tr>\n",
       "  </tbody>\n",
       "</table>\n",
       "</div>"
      ],
      "text/plain": [
       "                        action  \\\n",
       "0                  listrequest   \n",
       "1  virtual_beacon_list_request   \n",
       "2                  listrequest   \n",
       "3                  listrequest   \n",
       "4                  listrequest   \n",
       "\n",
       "                                             api_key  \\\n",
       "0  9c4523f4cde116f32bf370656b35129cd9ced93c6ce6c1246   \n",
       "1  9de1430e73cc96f15272a8a081d127746d3d4ef3d123b6adb   \n",
       "2  9c4523f4cde116f32bf370656b35129cd9ced93c6ce6c1246   \n",
       "3  e9d18b6c1b97cd776b1cd0c034a46738493151dc8e512acf0   \n",
       "4  9c4523f4cde116f32bf370656b35129cd9ced93c6ce6c1246   \n",
       "\n",
       "                                   app_id  beacon_major  beacon_minor  \\\n",
       "0  smartphones.collegescoreboard.football             0             0   \n",
       "1                      com.airkast.kbxxfm             0             0   \n",
       "2  smartphones.collegescoreboard.football             0             0   \n",
       "3                       com.checkout51.rc             0             0   \n",
       "4  smartphones.collegescoreboard.football             0             0   \n",
       "\n",
       "  beacon_uuid       city   code community community_code country_code  \\\n",
       "0              Littleton  80123                                    US   \n",
       "1                Houston  77067                                    US   \n",
       "2                 Groton  01450                                    US   \n",
       "3                  Media  19063                                    US   \n",
       "4                Paw Paw  49079                                    US   \n",
       "\n",
       "      county county_code  event_time       geohash  horizontal_accuracy  \\\n",
       "0  Jefferson         059  1491066280  9xj32w4r1z1m                  0.0   \n",
       "1     Harris         201  1491066280  9vk47vts9tx0                  9.0   \n",
       "2  Middlesex         017  1491066280  drt4k62nrypf                  0.0   \n",
       "3   Delaware         045  1491066280  dr475f915hgy                  0.0   \n",
       "4  Van Buren         159  1491066280  dp6zvrr3u6wk                  0.0   \n",
       "\n",
       "                                   idfa idfa_hash_alg        lat         lng  \\\n",
       "0  c50ab245-d660-435e-a226-8d311d2aebbf                39.628926 -105.092048   \n",
       "1  8c14186b-070d-4933-a28f-a64e97afbb96                29.957772  -95.452578   \n",
       "2  1ed5c7d3-6b7b-4cbe-a726-7429eb1828c0                42.596473  -71.531639   \n",
       "3  9350ce13-d0a3-422b-a047-0f534d69c217                39.916275  -75.419635   \n",
       "4  a6e440f4-695b-42b2-a149-b6da243d7ea5                42.183695  -85.891952   \n",
       "\n",
       "       place platform          state state_code         user_ip  \n",
       "0  Littleton  android       Colorado         CO  184.96.241.157  \n",
       "1    Houston  android          Texas         TX    45.18.76.214  \n",
       "2     Groton  android  Massachusetts         MA  174.192.25.246  \n",
       "3      Media      ios   Pennsylvania         PA  107.77.204.113  \n",
       "4    Paw Paw  android       Michigan         MI   50.107.82.231  "
      ]
     },
     "execution_count": 21,
     "metadata": {},
     "output_type": "execute_result"
    }
   ],
   "source": [
    "df.limit(5).toPandas()"
   ]
  },
  {
   "cell_type": "markdown",
   "metadata": {},
   "source": [
    "Looking at this output, each row/record shows where a user/IDFA was located and at what time. Looks like the information is being generated by apps on a user's phone.      \n",
    "\n",
    "I'm assuming beacon_major, beacon_minor and beacon_uuid have been deliberately masked.  "
   ]
  },
  {
   "cell_type": "markdown",
   "metadata": {},
   "source": [
    "How many records do we have? "
   ]
  },
  {
   "cell_type": "code",
   "execution_count": 38,
   "metadata": {},
   "outputs": [
    {
     "data": {
      "text/plain": [
       "8754673"
      ]
     },
     "execution_count": 38,
     "metadata": {},
     "output_type": "execute_result"
    }
   ],
   "source": [
    "(df\n",
    " .count()\n",
    ")"
   ]
  },
  {
   "cell_type": "markdown",
   "metadata": {},
   "source": [
    "How many countries does this data cover? "
   ]
  },
  {
   "cell_type": "code",
   "execution_count": 22,
   "metadata": {},
   "outputs": [
    {
     "name": "stdout",
     "output_type": "stream",
     "text": [
      "+------------+\n",
      "|country_code|\n",
      "+------------+\n",
      "|          LT|\n",
      "|          DZ|\n",
      "|          FI|\n",
      "|          PM|\n",
      "|          RO|\n",
      "|          NL|\n",
      "|          PL|\n",
      "|          RE|\n",
      "|          MK|\n",
      "|          MX|\n",
      "|          GL|\n",
      "|          SM|\n",
      "|          AT|\n",
      "|          RU|\n",
      "|          HR|\n",
      "|          LI|\n",
      "|          CZ|\n",
      "|          VA|\n",
      "|          PT|\n",
      "|          BD|\n",
      "+------------+\n",
      "only showing top 20 rows\n",
      "\n"
     ]
    }
   ],
   "source": [
    "(df\n",
    " .select('country_code')\n",
    " .distinct()\n",
    " .show()\n",
    ")"
   ]
  },
  {
   "cell_type": "code",
   "execution_count": 23,
   "metadata": {},
   "outputs": [
    {
     "data": {
      "text/plain": [
       "69"
      ]
     },
     "execution_count": 23,
     "metadata": {},
     "output_type": "execute_result"
    }
   ],
   "source": [
    "(df\n",
    " .select('country_code')\n",
    " .distinct()\n",
    " .count()\n",
    ")"
   ]
  },
  {
   "cell_type": "markdown",
   "metadata": {},
   "source": [
    "humm that's a lot of countries ... i imagine some are more important than others ..."
   ]
  },
  {
   "cell_type": "code",
   "execution_count": 24,
   "metadata": {},
   "outputs": [
    {
     "name": "stdout",
     "output_type": "stream",
     "text": [
      "+------------+-------+\n",
      "|country_code|records|\n",
      "+------------+-------+\n",
      "|          US|6715156|\n",
      "|          CA|1921178|\n",
      "|          JP|  21594|\n",
      "|          GU|  13946|\n",
      "|          MX|  12011|\n",
      "|          GB|   8618|\n",
      "|          BR|   5658|\n",
      "|          TR|   5634|\n",
      "|          DE|   4259|\n",
      "|          AU|   4217|\n",
      "|          PK|   3687|\n",
      "|          NL|   3093|\n",
      "|          PH|   2904|\n",
      "|          PR|   2794|\n",
      "|          BE|   2619|\n",
      "|          CO|   2421|\n",
      "|          RU|   2378|\n",
      "|          ES|   2106|\n",
      "|          FR|   1768|\n",
      "|          TH|   1763|\n",
      "+------------+-------+\n",
      "only showing top 20 rows\n",
      "\n"
     ]
    }
   ],
   "source": [
    "(df\n",
    "#  .select('country_code')\n",
    "#  .distinct()\n",
    " .groupby('country_code')\n",
    " .agg(func.count('*').alias('records'))\n",
    " .orderBy('records', ascending=False)\n",
    " .show()\n",
    ")"
   ]
  },
  {
   "cell_type": "markdown",
   "metadata": {},
   "source": [
    "Not surprising, dataset is focused on USA and Canada.     \n",
    "I like visualizing stuff so let's do a map of user activity.  "
   ]
  },
  {
   "cell_type": "code",
   "execution_count": null,
   "metadata": {},
   "outputs": [],
   "source": [
    "#map"
   ]
  },
  {
   "cell_type": "markdown",
   "metadata": {},
   "source": [
    "What time period does this data cover? Guessing a lot since its 50GB uncompressed ..."
   ]
  },
  {
   "cell_type": "code",
   "execution_count": 32,
   "metadata": {},
   "outputs": [],
   "source": [
    "# fix format of event_time column\n",
    "df = (df\n",
    "      .withColumn(\"event_time\", func.from_unixtime(\"event_time\"))\n",
    "     )"
   ]
  },
  {
   "cell_type": "code",
   "execution_count": 33,
   "metadata": {},
   "outputs": [
    {
     "data": {
      "text/html": [
       "<div>\n",
       "<style>\n",
       "    .dataframe thead tr:only-child th {\n",
       "        text-align: right;\n",
       "    }\n",
       "\n",
       "    .dataframe thead th {\n",
       "        text-align: left;\n",
       "    }\n",
       "\n",
       "    .dataframe tbody tr th {\n",
       "        vertical-align: top;\n",
       "    }\n",
       "</style>\n",
       "<table border=\"1\" class=\"dataframe\">\n",
       "  <thead>\n",
       "    <tr style=\"text-align: right;\">\n",
       "      <th></th>\n",
       "      <th>min_time</th>\n",
       "      <th>max_time</th>\n",
       "    </tr>\n",
       "  </thead>\n",
       "  <tbody>\n",
       "    <tr>\n",
       "      <th>0</th>\n",
       "      <td>2017-03-31 19:57:38</td>\n",
       "      <td>2017-04-01 20:01:36</td>\n",
       "    </tr>\n",
       "  </tbody>\n",
       "</table>\n",
       "</div>"
      ],
      "text/plain": [
       "              min_time             max_time\n",
       "0  2017-03-31 19:57:38  2017-04-01 20:01:36"
      ]
     },
     "execution_count": 33,
     "metadata": {},
     "output_type": "execute_result"
    }
   ],
   "source": [
    "(df\n",
    " .agg(func.min('event_time').alias('min_time'),\n",
    "      func.max('event_time').alias('max_time'),\n",
    "     )\n",
    " .toPandas()\n",
    ")"
   ]
  },
  {
   "cell_type": "markdown",
   "metadata": {},
   "source": [
    "oh wow, this dataset has only one day's worth of activity ... and yet its 50GB on disk uncompressed ... nice.      "
   ]
  },
  {
   "cell_type": "markdown",
   "metadata": {},
   "source": [
    "Alright, let's see what the action column is all about next.   "
   ]
  },
  {
   "cell_type": "code",
   "execution_count": 34,
   "metadata": {},
   "outputs": [
    {
     "data": {
      "text/html": [
       "<div>\n",
       "<style>\n",
       "    .dataframe thead tr:only-child th {\n",
       "        text-align: right;\n",
       "    }\n",
       "\n",
       "    .dataframe thead th {\n",
       "        text-align: left;\n",
       "    }\n",
       "\n",
       "    .dataframe tbody tr th {\n",
       "        vertical-align: top;\n",
       "    }\n",
       "</style>\n",
       "<table border=\"1\" class=\"dataframe\">\n",
       "  <thead>\n",
       "    <tr style=\"text-align: right;\">\n",
       "      <th></th>\n",
       "      <th>action</th>\n",
       "      <th>records</th>\n",
       "    </tr>\n",
       "  </thead>\n",
       "  <tbody>\n",
       "    <tr>\n",
       "      <th>0</th>\n",
       "      <td>listrequest</td>\n",
       "      <td>2505370</td>\n",
       "    </tr>\n",
       "    <tr>\n",
       "      <th>1</th>\n",
       "      <td>virtual_beacon_list_request</td>\n",
       "      <td>2325582</td>\n",
       "    </tr>\n",
       "    <tr>\n",
       "      <th>2</th>\n",
       "      <td>config</td>\n",
       "      <td>1833233</td>\n",
       "    </tr>\n",
       "    <tr>\n",
       "      <th>3</th>\n",
       "      <td>enter</td>\n",
       "      <td>1140386</td>\n",
       "    </tr>\n",
       "    <tr>\n",
       "      <th>4</th>\n",
       "      <td>exit</td>\n",
       "      <td>773177</td>\n",
       "    </tr>\n",
       "    <tr>\n",
       "      <th>5</th>\n",
       "      <td>beacon_list_request</td>\n",
       "      <td>168145</td>\n",
       "    </tr>\n",
       "    <tr>\n",
       "      <th>6</th>\n",
       "      <td>visit</td>\n",
       "      <td>7356</td>\n",
       "    </tr>\n",
       "    <tr>\n",
       "      <th>7</th>\n",
       "      <td>near</td>\n",
       "      <td>1409</td>\n",
       "    </tr>\n",
       "    <tr>\n",
       "      <th>8</th>\n",
       "      <td></td>\n",
       "      <td>15</td>\n",
       "    </tr>\n",
       "  </tbody>\n",
       "</table>\n",
       "</div>"
      ],
      "text/plain": [
       "                        action  records\n",
       "0                  listrequest  2505370\n",
       "1  virtual_beacon_list_request  2325582\n",
       "2                       config  1833233\n",
       "3                        enter  1140386\n",
       "4                         exit   773177\n",
       "5          beacon_list_request   168145\n",
       "6                        visit     7356\n",
       "7                         near     1409\n",
       "8                                    15"
      ]
     },
     "execution_count": 34,
     "metadata": {},
     "output_type": "execute_result"
    }
   ],
   "source": [
    "(df\n",
    " .groupby('action')\n",
    " .agg(func.count('*').alias('records'))\n",
    " .orderBy('records', ascending=False)\n",
    " .toPandas()\n",
    ")"
   ]
  },
  {
   "cell_type": "markdown",
   "metadata": {},
   "source": [
    "I can guess what *enter*, *exit*, *visit*, and *near* refer to ... the rest I don't know ... virtual_beacon_list_request, must ask more about that in interview ... anyway this information seems irrelevant to the questions I've been asked to answer so no biggie.    \n",
    "\n",
    "Not that this is relevant either but I'm curious to know what some of the biggest apps are that are contributing to this activity.    "
   ]
  },
  {
   "cell_type": "code",
   "execution_count": 36,
   "metadata": {},
   "outputs": [
    {
     "name": "stdout",
     "output_type": "stream",
     "text": [
      "+----------------------------------------+-------+\n",
      "|app_id                                  |records|\n",
      "+----------------------------------------+-------+\n",
      "|smartphones.collegescoreboard.football  |2209154|\n",
      "|ca.indigo                               |915553 |\n",
      "|ca.indigo.mobile                        |650734 |\n",
      "|com.c51                                 |451973 |\n",
      "|com.airkast.foxfm                       |360640 |\n",
      "|com.airkast.mark_levin                  |307751 |\n",
      "|com.airkast.tjms                        |306903 |\n",
      "|smartphones.collegescoreboard.basketball|199874 |\n",
      "|com.airkast.wfunfm                      |150798 |\n",
      "|com.poynt.android                       |123729 |\n",
      "|com.theweathernetwork.weathereyeiphone  |103781 |\n",
      "|com.airkast.rsmsfm                      |82547  |\n",
      "|com.lifelikeapps.classifieds            |78858  |\n",
      "|com.jacapps.wbns                        |73427  |\n",
      "|com.airkast.kmjqfm                      |64750  |\n",
      "|com.mcdonalds.superapp                  |63037  |\n",
      "|com.multiplied.poynt                    |53180  |\n",
      "|com.airkast.knbram                      |53000  |\n",
      "|com.airkast.wmalam                      |46723  |\n",
      "|com.airkast.tunekast1581_124            |45515  |\n",
      "+----------------------------------------+-------+\n",
      "only showing top 20 rows\n",
      "\n"
     ]
    }
   ],
   "source": [
    "(df\n",
    " .groupby('app_id')\n",
    " .agg(func.count('*').alias('records'))\n",
    " .orderBy('records', ascending=False)\n",
    " .show(truncate=False)\n",
    ")"
   ]
  },
  {
   "cell_type": "markdown",
   "metadata": {},
   "source": [
    "The usual candidates ... radio stations, sports apps and weather apps ... the kinds of apps that most users would have and open on their on phone ... I wonder if the data is being generated only when a user is using a given app or if the data is being generated even when the app is closed or working in the background.\n",
    "\n",
    "Last but not least, let's just check how much missing data there is in the dataset.   "
   ]
  },
  {
   "cell_type": "markdown",
   "metadata": {},
   "source": [
    "How much missing data? "
   ]
  },
  {
   "cell_type": "code",
   "execution_count": 44,
   "metadata": {},
   "outputs": [
    {
     "data": {
      "text/plain": [
       "87546.73"
      ]
     },
     "execution_count": 44,
     "metadata": {},
     "output_type": "execute_result"
    }
   ],
   "source": [
    "8754673*0.01"
   ]
  },
  {
   "cell_type": "code",
   "execution_count": 45,
   "metadata": {},
   "outputs": [],
   "source": [
    "import missingno as msno"
   ]
  },
  {
   "cell_type": "code",
   "execution_count": 47,
   "metadata": {},
   "outputs": [],
   "source": [
    "temp = (df\n",
    "        # sample rows randomly\n",
    "        .sample(False, 0.01, seed)\n",
    "        .toPandas()\n",
    "       )"
   ]
  },
  {
   "cell_type": "code",
   "execution_count": 48,
   "metadata": {},
   "outputs": [
    {
     "data": {
      "image/png": "[encoded data removed]",
      "text/plain": [
       "<matplotlib.figure.Figure at 0x7fca13bec860>"
      ]
     },
     "metadata": {},
     "output_type": "display_data"
    }
   ],
   "source": [
    "msno.matrix(temp, freq=False)\n",
    "\n",
    "plt.show()"
   ]
  },
  {
   "cell_type": "markdown",
   "metadata": {},
   "source": [
    "No missing data? "
   ]
  },
  {
   "cell_type": "code",
   "execution_count": null,
   "metadata": {},
   "outputs": [],
   "source": []
  },
  {
   "cell_type": "code",
   "execution_count": null,
   "metadata": {},
   "outputs": [],
   "source": []
  },
  {
   "cell_type": "code",
   "execution_count": null,
   "metadata": {},
   "outputs": [],
   "source": []
  },
  {
   "cell_type": "code",
   "execution_count": null,
   "metadata": {},
   "outputs": [],
   "source": []
  },
  {
   "cell_type": "code",
   "execution_count": null,
   "metadata": {},
   "outputs": [],
   "source": []
  }
 ],
 "metadata": {
  "kernelspec": {
   "display_name": "Python 3",
   "language": "python",
   "name": "python3"
  },
  "language_info": {
   "codemirror_mode": {
    "name": "ipython",
    "version": 3
   },
   "file_extension": ".py",
   "mimetype": "text/x-python",
   "name": "python",
   "nbconvert_exporter": "python",
   "pygments_lexer": "ipython3",
   "version": "3.5.2"
  }
 },
 "nbformat": 4,
 "nbformat_minor": 2
}
