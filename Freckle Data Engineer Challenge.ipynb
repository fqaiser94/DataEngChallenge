{
 "cells": [
  {
   "cell_type": "markdown",
   "metadata": {},
   "source": [
    "# Freckle Data Engineer Challenge\n",
    "*22 Oct 2017  \n",
    "Farooq Qaiser* "
   ]
  },
  {
   "cell_type": "markdown",
   "metadata": {},
   "source": [
    "## Admin  "
   ]
  },
  {
   "cell_type": "markdown",
   "metadata": {},
   "source": [
    "initialize PySpark"
   ]
  },
  {
   "cell_type": "code",
   "execution_count": 2,
   "metadata": {},
   "outputs": [],
   "source": [
    "import findspark\n",
    "\n",
    "findspark.init()"
   ]
  },
  {
   "cell_type": "code",
   "execution_count": 3,
   "metadata": {},
   "outputs": [],
   "source": [
    "from pyspark.sql import SparkSession\n",
    "\n",
    "spark = SparkSession \\\n",
    "    .builder \\\n",
    "    .appName(\"Freckle_challenge\") \\\n",
    "    .config(\"spark.some.config.option\", \"some-value\") \\\n",
    "    .getOrCreate()"
   ]
  },
  {
   "cell_type": "markdown",
   "metadata": {},
   "source": [
    "Load some of the basic libraries (we'll load others as we need them). "
   ]
  },
  {
   "cell_type": "code",
   "execution_count": 5,
   "metadata": {},
   "outputs": [],
   "source": [
    "from pyspark.sql import functions as func\n",
    "\n",
    "import numpy as np\n",
    "import matplotlib.pyplot as plt\n",
    "import pandas as pd"
   ]
  },
  {
   "cell_type": "markdown",
   "metadata": {},
   "source": [
    "Set some display options. "
   ]
  },
  {
   "cell_type": "code",
   "execution_count": 6,
   "metadata": {},
   "outputs": [],
   "source": [
    "# show plots inline\n",
    "%matplotlib inline"
   ]
  },
  {
   "cell_type": "markdown",
   "metadata": {},
   "source": [
    "Set some parameters.  "
   ]
  },
  {
   "cell_type": "code",
   "execution_count": 12,
   "metadata": {},
   "outputs": [],
   "source": [
    "seed = 1\n",
    "\n",
    "input_path = \"/home/fqaiser94/Data Engineer Challenge/location-data-sample/*.gz\""
   ]
  },
  {
   "cell_type": "markdown",
   "metadata": {},
   "source": [
    "Read in data as dataframe"
   ]
  },
  {
   "cell_type": "code",
   "execution_count": 144,
   "metadata": {},
   "outputs": [],
   "source": [
    "df = spark.read.json(input_path)"
   ]
  },
  {
   "cell_type": "markdown",
   "metadata": {},
   "source": [
    "## RDD vs Dataframe\n",
    "\n",
    "**RE: The expectation for this exercise is that you use Spark 2.x with Scala, Python, or Java. You can use the RDD or Dataframe APIs as you see fit, but please be ready to explain your choices.**  \n",
    "\n",
    "\n",
    "I chose to use the Dataframe API over RDD API because:  \n",
    "1. Dataframe API is able to take advantage of Spark’s Catalyst optimizer by exposing expressions and data fields to a query planner.\n",
    "2. Dataframe API has speed advantage in most cases (see [here](http://www.adsquare.com/comparing-performance-of-spark-dataframes-api-to-spark-rdd/)). \n",
    "3. I find Dataframes an easier construction to work with  \n",
    "\n",
    "There is obviously also the new Dataset API, which I know little about but apparently it combines the best of both worlds ..."
   ]
  },
  {
   "cell_type": "markdown",
   "metadata": {},
   "source": [
    "## EDA\n",
    "\n",
    "Always helpful to do some EDA to understand our data before diving in.  \n",
    "Lets take a look at the dataframes schema.  "
   ]
  },
  {
   "cell_type": "code",
   "execution_count": 17,
   "metadata": {},
   "outputs": [
    {
     "name": "stdout",
     "output_type": "stream",
     "text": [
      "root\n",
      " |-- action: string (nullable = true)\n",
      " |-- api_key: string (nullable = true)\n",
      " |-- app_id: string (nullable = true)\n",
      " |-- beacon_major: long (nullable = true)\n",
      " |-- beacon_minor: long (nullable = true)\n",
      " |-- beacon_uuid: string (nullable = true)\n",
      " |-- city: string (nullable = true)\n",
      " |-- code: string (nullable = true)\n",
      " |-- community: string (nullable = true)\n",
      " |-- community_code: string (nullable = true)\n",
      " |-- country_code: string (nullable = true)\n",
      " |-- county: string (nullable = true)\n",
      " |-- county_code: string (nullable = true)\n",
      " |-- event_time: long (nullable = true)\n",
      " |-- geohash: string (nullable = true)\n",
      " |-- horizontal_accuracy: double (nullable = true)\n",
      " |-- idfa: string (nullable = true)\n",
      " |-- idfa_hash_alg: string (nullable = true)\n",
      " |-- lat: double (nullable = true)\n",
      " |-- lng: double (nullable = true)\n",
      " |-- place: string (nullable = true)\n",
      " |-- platform: string (nullable = true)\n",
      " |-- state: string (nullable = true)\n",
      " |-- state_code: string (nullable = true)\n",
      " |-- user_ip: string (nullable = true)\n",
      "\n"
     ]
    }
   ],
   "source": [
    "df.printSchema()"
   ]
  },
  {
   "cell_type": "markdown",
   "metadata": {},
   "source": [
    "Humm that's a lot of columns, let's take a peek at our data. "
   ]
  },
  {
   "cell_type": "code",
   "execution_count": 20,
   "metadata": {},
   "outputs": [],
   "source": [
    "# show all columns\n",
    "pd.set_option('display.max_columns', None)"
   ]
  },
  {
   "cell_type": "code",
   "execution_count": 21,
   "metadata": {
    "scrolled": false
   },
   "outputs": [
    {
     "data": {
      "text/html": [
       "<div>\n",
       "<style>\n",
       "    .dataframe thead tr:only-child th {\n",
       "        text-align: right;\n",
       "    }\n",
       "\n",
       "    .dataframe thead th {\n",
       "        text-align: left;\n",
       "    }\n",
       "\n",
       "    .dataframe tbody tr th {\n",
       "        vertical-align: top;\n",
       "    }\n",
       "</style>\n",
       "<table border=\"1\" class=\"dataframe\">\n",
       "  <thead>\n",
       "    <tr style=\"text-align: right;\">\n",
       "      <th></th>\n",
       "      <th>action</th>\n",
       "      <th>api_key</th>\n",
       "      <th>app_id</th>\n",
       "      <th>beacon_major</th>\n",
       "      <th>beacon_minor</th>\n",
       "      <th>beacon_uuid</th>\n",
       "      <th>city</th>\n",
       "      <th>code</th>\n",
       "      <th>community</th>\n",
       "      <th>community_code</th>\n",
       "      <th>country_code</th>\n",
       "      <th>county</th>\n",
       "      <th>county_code</th>\n",
       "      <th>event_time</th>\n",
       "      <th>geohash</th>\n",
       "      <th>horizontal_accuracy</th>\n",
       "      <th>idfa</th>\n",
       "      <th>idfa_hash_alg</th>\n",
       "      <th>lat</th>\n",
       "      <th>lng</th>\n",
       "      <th>place</th>\n",
       "      <th>platform</th>\n",
       "      <th>state</th>\n",
       "      <th>state_code</th>\n",
       "      <th>user_ip</th>\n",
       "    </tr>\n",
       "  </thead>\n",
       "  <tbody>\n",
       "    <tr>\n",
       "      <th>0</th>\n",
       "      <td>listrequest</td>\n",
       "      <td>9c4523f4cde116f32bf370656b35129cd9ced93c6ce6c1246</td>\n",
       "      <td>smartphones.collegescoreboard.football</td>\n",
       "      <td>0</td>\n",
       "      <td>0</td>\n",
       "      <td></td>\n",
       "      <td>Littleton</td>\n",
       "      <td>80123</td>\n",
       "      <td></td>\n",
       "      <td></td>\n",
       "      <td>US</td>\n",
       "      <td>Jefferson</td>\n",
       "      <td>059</td>\n",
       "      <td>1491066280</td>\n",
       "      <td>9xj32w4r1z1m</td>\n",
       "      <td>0.0</td>\n",
       "      <td>c50ab245-d660-435e-a226-8d311d2aebbf</td>\n",
       "      <td></td>\n",
       "      <td>39.628926</td>\n",
       "      <td>-105.092048</td>\n",
       "      <td>Littleton</td>\n",
       "      <td>android</td>\n",
       "      <td>Colorado</td>\n",
       "      <td>CO</td>\n",
       "      <td>184.96.241.157</td>\n",
       "    </tr>\n",
       "    <tr>\n",
       "      <th>1</th>\n",
       "      <td>virtual_beacon_list_request</td>\n",
       "      <td>9de1430e73cc96f15272a8a081d127746d3d4ef3d123b6adb</td>\n",
       "      <td>com.airkast.kbxxfm</td>\n",
       "      <td>0</td>\n",
       "      <td>0</td>\n",
       "      <td></td>\n",
       "      <td>Houston</td>\n",
       "      <td>77067</td>\n",
       "      <td></td>\n",
       "      <td></td>\n",
       "      <td>US</td>\n",
       "      <td>Harris</td>\n",
       "      <td>201</td>\n",
       "      <td>1491066280</td>\n",
       "      <td>9vk47vts9tx0</td>\n",
       "      <td>9.0</td>\n",
       "      <td>8c14186b-070d-4933-a28f-a64e97afbb96</td>\n",
       "      <td></td>\n",
       "      <td>29.957772</td>\n",
       "      <td>-95.452578</td>\n",
       "      <td>Houston</td>\n",
       "      <td>android</td>\n",
       "      <td>Texas</td>\n",
       "      <td>TX</td>\n",
       "      <td>45.18.76.214</td>\n",
       "    </tr>\n",
       "    <tr>\n",
       "      <th>2</th>\n",
       "      <td>listrequest</td>\n",
       "      <td>9c4523f4cde116f32bf370656b35129cd9ced93c6ce6c1246</td>\n",
       "      <td>smartphones.collegescoreboard.football</td>\n",
       "      <td>0</td>\n",
       "      <td>0</td>\n",
       "      <td></td>\n",
       "      <td>Groton</td>\n",
       "      <td>01450</td>\n",
       "      <td></td>\n",
       "      <td></td>\n",
       "      <td>US</td>\n",
       "      <td>Middlesex</td>\n",
       "      <td>017</td>\n",
       "      <td>1491066280</td>\n",
       "      <td>drt4k62nrypf</td>\n",
       "      <td>0.0</td>\n",
       "      <td>1ed5c7d3-6b7b-4cbe-a726-7429eb1828c0</td>\n",
       "      <td></td>\n",
       "      <td>42.596473</td>\n",
       "      <td>-71.531639</td>\n",
       "      <td>Groton</td>\n",
       "      <td>android</td>\n",
       "      <td>Massachusetts</td>\n",
       "      <td>MA</td>\n",
       "      <td>174.192.25.246</td>\n",
       "    </tr>\n",
       "    <tr>\n",
       "      <th>3</th>\n",
       "      <td>listrequest</td>\n",
       "      <td>e9d18b6c1b97cd776b1cd0c034a46738493151dc8e512acf0</td>\n",
       "      <td>com.checkout51.rc</td>\n",
       "      <td>0</td>\n",
       "      <td>0</td>\n",
       "      <td></td>\n",
       "      <td>Media</td>\n",
       "      <td>19063</td>\n",
       "      <td></td>\n",
       "      <td></td>\n",
       "      <td>US</td>\n",
       "      <td>Delaware</td>\n",
       "      <td>045</td>\n",
       "      <td>1491066280</td>\n",
       "      <td>dr475f915hgy</td>\n",
       "      <td>0.0</td>\n",
       "      <td>9350ce13-d0a3-422b-a047-0f534d69c217</td>\n",
       "      <td></td>\n",
       "      <td>39.916275</td>\n",
       "      <td>-75.419635</td>\n",
       "      <td>Media</td>\n",
       "      <td>ios</td>\n",
       "      <td>Pennsylvania</td>\n",
       "      <td>PA</td>\n",
       "      <td>107.77.204.113</td>\n",
       "    </tr>\n",
       "    <tr>\n",
       "      <th>4</th>\n",
       "      <td>listrequest</td>\n",
       "      <td>9c4523f4cde116f32bf370656b35129cd9ced93c6ce6c1246</td>\n",
       "      <td>smartphones.collegescoreboard.football</td>\n",
       "      <td>0</td>\n",
       "      <td>0</td>\n",
       "      <td></td>\n",
       "      <td>Paw Paw</td>\n",
       "      <td>49079</td>\n",
       "      <td></td>\n",
       "      <td></td>\n",
       "      <td>US</td>\n",
       "      <td>Van Buren</td>\n",
       "      <td>159</td>\n",
       "      <td>1491066280</td>\n",
       "      <td>dp6zvrr3u6wk</td>\n",
       "      <td>0.0</td>\n",
       "      <td>a6e440f4-695b-42b2-a149-b6da243d7ea5</td>\n",
       "      <td></td>\n",
       "      <td>42.183695</td>\n",
       "      <td>-85.891952</td>\n",
       "      <td>Paw Paw</td>\n",
       "      <td>android</td>\n",
       "      <td>Michigan</td>\n",
       "      <td>MI</td>\n",
       "      <td>50.107.82.231</td>\n",
       "    </tr>\n",
       "  </tbody>\n",
       "</table>\n",
       "</div>"
      ],
      "text/plain": [
       "                        action  \\\n",
       "0                  listrequest   \n",
       "1  virtual_beacon_list_request   \n",
       "2                  listrequest   \n",
       "3                  listrequest   \n",
       "4                  listrequest   \n",
       "\n",
       "                                             api_key  \\\n",
       "0  9c4523f4cde116f32bf370656b35129cd9ced93c6ce6c1246   \n",
       "1  9de1430e73cc96f15272a8a081d127746d3d4ef3d123b6adb   \n",
       "2  9c4523f4cde116f32bf370656b35129cd9ced93c6ce6c1246   \n",
       "3  e9d18b6c1b97cd776b1cd0c034a46738493151dc8e512acf0   \n",
       "4  9c4523f4cde116f32bf370656b35129cd9ced93c6ce6c1246   \n",
       "\n",
       "                                   app_id  beacon_major  beacon_minor  \\\n",
       "0  smartphones.collegescoreboard.football             0             0   \n",
       "1                      com.airkast.kbxxfm             0             0   \n",
       "2  smartphones.collegescoreboard.football             0             0   \n",
       "3                       com.checkout51.rc             0             0   \n",
       "4  smartphones.collegescoreboard.football             0             0   \n",
       "\n",
       "  beacon_uuid       city   code community community_code country_code  \\\n",
       "0              Littleton  80123                                    US   \n",
       "1                Houston  77067                                    US   \n",
       "2                 Groton  01450                                    US   \n",
       "3                  Media  19063                                    US   \n",
       "4                Paw Paw  49079                                    US   \n",
       "\n",
       "      county county_code  event_time       geohash  horizontal_accuracy  \\\n",
       "0  Jefferson         059  1491066280  9xj32w4r1z1m                  0.0   \n",
       "1     Harris         201  1491066280  9vk47vts9tx0                  9.0   \n",
       "2  Middlesex         017  1491066280  drt4k62nrypf                  0.0   \n",
       "3   Delaware         045  1491066280  dr475f915hgy                  0.0   \n",
       "4  Van Buren         159  1491066280  dp6zvrr3u6wk                  0.0   \n",
       "\n",
       "                                   idfa idfa_hash_alg        lat         lng  \\\n",
       "0  c50ab245-d660-435e-a226-8d311d2aebbf                39.628926 -105.092048   \n",
       "1  8c14186b-070d-4933-a28f-a64e97afbb96                29.957772  -95.452578   \n",
       "2  1ed5c7d3-6b7b-4cbe-a726-7429eb1828c0                42.596473  -71.531639   \n",
       "3  9350ce13-d0a3-422b-a047-0f534d69c217                39.916275  -75.419635   \n",
       "4  a6e440f4-695b-42b2-a149-b6da243d7ea5                42.183695  -85.891952   \n",
       "\n",
       "       place platform          state state_code         user_ip  \n",
       "0  Littleton  android       Colorado         CO  184.96.241.157  \n",
       "1    Houston  android          Texas         TX    45.18.76.214  \n",
       "2     Groton  android  Massachusetts         MA  174.192.25.246  \n",
       "3      Media      ios   Pennsylvania         PA  107.77.204.113  \n",
       "4    Paw Paw  android       Michigan         MI   50.107.82.231  "
      ]
     },
     "execution_count": 21,
     "metadata": {},
     "output_type": "execute_result"
    }
   ],
   "source": [
    "df.limit(5).toPandas()"
   ]
  },
  {
   "cell_type": "markdown",
   "metadata": {},
   "source": [
    "Looking at this output, each row/record shows where a user/IDFA was located and at what time. Looks like the information is being generated by apps on a user's phone.  "
   ]
  },
  {
   "cell_type": "markdown",
   "metadata": {},
   "source": [
    "How many records do we have? "
   ]
  },
  {
   "cell_type": "code",
   "execution_count": 38,
   "metadata": {},
   "outputs": [
    {
     "data": {
      "text/plain": [
       "8754673"
      ]
     },
     "execution_count": 38,
     "metadata": {},
     "output_type": "execute_result"
    }
   ],
   "source": [
    "(df\n",
    " .count()\n",
    ")"
   ]
  },
  {
   "cell_type": "markdown",
   "metadata": {},
   "source": [
    "How many countries does this data cover? "
   ]
  },
  {
   "cell_type": "code",
   "execution_count": 22,
   "metadata": {},
   "outputs": [
    {
     "name": "stdout",
     "output_type": "stream",
     "text": [
      "+------------+\n",
      "|country_code|\n",
      "+------------+\n",
      "|          LT|\n",
      "|          DZ|\n",
      "|          FI|\n",
      "|          PM|\n",
      "|          RO|\n",
      "|          NL|\n",
      "|          PL|\n",
      "|          RE|\n",
      "|          MK|\n",
      "|          MX|\n",
      "|          GL|\n",
      "|          SM|\n",
      "|          AT|\n",
      "|          RU|\n",
      "|          HR|\n",
      "|          LI|\n",
      "|          CZ|\n",
      "|          VA|\n",
      "|          PT|\n",
      "|          BD|\n",
      "+------------+\n",
      "only showing top 20 rows\n",
      "\n"
     ]
    }
   ],
   "source": [
    "(df\n",
    " .select('country_code')\n",
    " .distinct()\n",
    " .show()\n",
    ")"
   ]
  },
  {
   "cell_type": "code",
   "execution_count": 23,
   "metadata": {},
   "outputs": [
    {
     "data": {
      "text/plain": [
       "69"
      ]
     },
     "execution_count": 23,
     "metadata": {},
     "output_type": "execute_result"
    }
   ],
   "source": [
    "(df\n",
    " .select('country_code')\n",
    " .distinct()\n",
    " .count()\n",
    ")"
   ]
  },
  {
   "cell_type": "markdown",
   "metadata": {},
   "source": [
    "humm that's a lot of countries ... i imagine some are more important than others ..."
   ]
  },
  {
   "cell_type": "code",
   "execution_count": 24,
   "metadata": {},
   "outputs": [
    {
     "name": "stdout",
     "output_type": "stream",
     "text": [
      "+------------+-------+\n",
      "|country_code|records|\n",
      "+------------+-------+\n",
      "|          US|6715156|\n",
      "|          CA|1921178|\n",
      "|          JP|  21594|\n",
      "|          GU|  13946|\n",
      "|          MX|  12011|\n",
      "|          GB|   8618|\n",
      "|          BR|   5658|\n",
      "|          TR|   5634|\n",
      "|          DE|   4259|\n",
      "|          AU|   4217|\n",
      "|          PK|   3687|\n",
      "|          NL|   3093|\n",
      "|          PH|   2904|\n",
      "|          PR|   2794|\n",
      "|          BE|   2619|\n",
      "|          CO|   2421|\n",
      "|          RU|   2378|\n",
      "|          ES|   2106|\n",
      "|          FR|   1768|\n",
      "|          TH|   1763|\n",
      "+------------+-------+\n",
      "only showing top 20 rows\n",
      "\n"
     ]
    }
   ],
   "source": [
    "(df\n",
    "#  .select('country_code')\n",
    "#  .distinct()\n",
    " .groupby('country_code')\n",
    " .agg(func.count('*').alias('records'))\n",
    " .orderBy('records', ascending=False)\n",
    " .show()\n",
    ")"
   ]
  },
  {
   "cell_type": "markdown",
   "metadata": {},
   "source": [
    "Not surprising, dataset is focused on USA and Canada.     \n",
    "I like visualizing stuff so let's do a map of user activity.  "
   ]
  },
  {
   "cell_type": "code",
   "execution_count": null,
   "metadata": {},
   "outputs": [],
   "source": [
    "#map"
   ]
  },
  {
   "cell_type": "markdown",
   "metadata": {},
   "source": [
    "What time period does this data cover? Guessing a lot since its 50GB uncompressed ..."
   ]
  },
  {
   "cell_type": "code",
   "execution_count": 145,
   "metadata": {},
   "outputs": [],
   "source": [
    "# fix format of event_time column\n",
    "df = (df\n",
    "      .withColumn(\"event_time\", func.from_unixtime(\"event_time\"))\n",
    "     )"
   ]
  },
  {
   "cell_type": "code",
   "execution_count": 33,
   "metadata": {},
   "outputs": [
    {
     "data": {
      "text/html": [
       "<div>\n",
       "<style>\n",
       "    .dataframe thead tr:only-child th {\n",
       "        text-align: right;\n",
       "    }\n",
       "\n",
       "    .dataframe thead th {\n",
       "        text-align: left;\n",
       "    }\n",
       "\n",
       "    .dataframe tbody tr th {\n",
       "        vertical-align: top;\n",
       "    }\n",
       "</style>\n",
       "<table border=\"1\" class=\"dataframe\">\n",
       "  <thead>\n",
       "    <tr style=\"text-align: right;\">\n",
       "      <th></th>\n",
       "      <th>min_time</th>\n",
       "      <th>max_time</th>\n",
       "    </tr>\n",
       "  </thead>\n",
       "  <tbody>\n",
       "    <tr>\n",
       "      <th>0</th>\n",
       "      <td>2017-03-31 19:57:38</td>\n",
       "      <td>2017-04-01 20:01:36</td>\n",
       "    </tr>\n",
       "  </tbody>\n",
       "</table>\n",
       "</div>"
      ],
      "text/plain": [
       "              min_time             max_time\n",
       "0  2017-03-31 19:57:38  2017-04-01 20:01:36"
      ]
     },
     "execution_count": 33,
     "metadata": {},
     "output_type": "execute_result"
    }
   ],
   "source": [
    "(df\n",
    " .agg(func.min('event_time').alias('min_time'),\n",
    "      func.max('event_time').alias('max_time'),\n",
    "     )\n",
    " .toPandas()\n",
    ")"
   ]
  },
  {
   "cell_type": "markdown",
   "metadata": {},
   "source": [
    "oh wow, this dataset has only one day's worth of activity ... and yet its 50GB on disk uncompressed ... nice.      "
   ]
  },
  {
   "cell_type": "markdown",
   "metadata": {},
   "source": [
    "Alright, let's see what the action column is all about next.   "
   ]
  },
  {
   "cell_type": "code",
   "execution_count": 34,
   "metadata": {},
   "outputs": [
    {
     "data": {
      "text/html": [
       "<div>\n",
       "<style>\n",
       "    .dataframe thead tr:only-child th {\n",
       "        text-align: right;\n",
       "    }\n",
       "\n",
       "    .dataframe thead th {\n",
       "        text-align: left;\n",
       "    }\n",
       "\n",
       "    .dataframe tbody tr th {\n",
       "        vertical-align: top;\n",
       "    }\n",
       "</style>\n",
       "<table border=\"1\" class=\"dataframe\">\n",
       "  <thead>\n",
       "    <tr style=\"text-align: right;\">\n",
       "      <th></th>\n",
       "      <th>action</th>\n",
       "      <th>records</th>\n",
       "    </tr>\n",
       "  </thead>\n",
       "  <tbody>\n",
       "    <tr>\n",
       "      <th>0</th>\n",
       "      <td>listrequest</td>\n",
       "      <td>2505370</td>\n",
       "    </tr>\n",
       "    <tr>\n",
       "      <th>1</th>\n",
       "      <td>virtual_beacon_list_request</td>\n",
       "      <td>2325582</td>\n",
       "    </tr>\n",
       "    <tr>\n",
       "      <th>2</th>\n",
       "      <td>config</td>\n",
       "      <td>1833233</td>\n",
       "    </tr>\n",
       "    <tr>\n",
       "      <th>3</th>\n",
       "      <td>enter</td>\n",
       "      <td>1140386</td>\n",
       "    </tr>\n",
       "    <tr>\n",
       "      <th>4</th>\n",
       "      <td>exit</td>\n",
       "      <td>773177</td>\n",
       "    </tr>\n",
       "    <tr>\n",
       "      <th>5</th>\n",
       "      <td>beacon_list_request</td>\n",
       "      <td>168145</td>\n",
       "    </tr>\n",
       "    <tr>\n",
       "      <th>6</th>\n",
       "      <td>visit</td>\n",
       "      <td>7356</td>\n",
       "    </tr>\n",
       "    <tr>\n",
       "      <th>7</th>\n",
       "      <td>near</td>\n",
       "      <td>1409</td>\n",
       "    </tr>\n",
       "    <tr>\n",
       "      <th>8</th>\n",
       "      <td></td>\n",
       "      <td>15</td>\n",
       "    </tr>\n",
       "  </tbody>\n",
       "</table>\n",
       "</div>"
      ],
      "text/plain": [
       "                        action  records\n",
       "0                  listrequest  2505370\n",
       "1  virtual_beacon_list_request  2325582\n",
       "2                       config  1833233\n",
       "3                        enter  1140386\n",
       "4                         exit   773177\n",
       "5          beacon_list_request   168145\n",
       "6                        visit     7356\n",
       "7                         near     1409\n",
       "8                                    15"
      ]
     },
     "execution_count": 34,
     "metadata": {},
     "output_type": "execute_result"
    }
   ],
   "source": [
    "(df\n",
    " .groupby('action')\n",
    " .agg(func.count('*').alias('records'))\n",
    " .orderBy('records', ascending=False)\n",
    " .toPandas()\n",
    ")"
   ]
  },
  {
   "cell_type": "markdown",
   "metadata": {},
   "source": [
    "I can guess what *enter*, *exit*, *visit*, and *near* refer to ... the rest I don't know ... virtual_beacon_list_request, must ask more about that in interview ... anyway this information seems irrelevant to the questions I've been asked to answer so no biggie.    \n",
    "\n",
    "Not that this is relevant either but I'm curious to know what some of the biggest apps are that are contributing to this activity.    "
   ]
  },
  {
   "cell_type": "code",
   "execution_count": 36,
   "metadata": {},
   "outputs": [
    {
     "name": "stdout",
     "output_type": "stream",
     "text": [
      "+----------------------------------------+-------+\n",
      "|app_id                                  |records|\n",
      "+----------------------------------------+-------+\n",
      "|smartphones.collegescoreboard.football  |2209154|\n",
      "|ca.indigo                               |915553 |\n",
      "|ca.indigo.mobile                        |650734 |\n",
      "|com.c51                                 |451973 |\n",
      "|com.airkast.foxfm                       |360640 |\n",
      "|com.airkast.mark_levin                  |307751 |\n",
      "|com.airkast.tjms                        |306903 |\n",
      "|smartphones.collegescoreboard.basketball|199874 |\n",
      "|com.airkast.wfunfm                      |150798 |\n",
      "|com.poynt.android                       |123729 |\n",
      "|com.theweathernetwork.weathereyeiphone  |103781 |\n",
      "|com.airkast.rsmsfm                      |82547  |\n",
      "|com.lifelikeapps.classifieds            |78858  |\n",
      "|com.jacapps.wbns                        |73427  |\n",
      "|com.airkast.kmjqfm                      |64750  |\n",
      "|com.mcdonalds.superapp                  |63037  |\n",
      "|com.multiplied.poynt                    |53180  |\n",
      "|com.airkast.knbram                      |53000  |\n",
      "|com.airkast.wmalam                      |46723  |\n",
      "|com.airkast.tunekast1581_124            |45515  |\n",
      "+----------------------------------------+-------+\n",
      "only showing top 20 rows\n",
      "\n"
     ]
    }
   ],
   "source": [
    "(df\n",
    " .groupby('app_id')\n",
    " .agg(func.count('*').alias('records'))\n",
    " .orderBy('records', ascending=False)\n",
    " .show(truncate=False)\n",
    ")"
   ]
  },
  {
   "cell_type": "markdown",
   "metadata": {},
   "source": [
    "The usual candidates ... radio stations, sports apps and weather apps ... the kinds of apps that most users would have and open on their on phone ... I wonder if the data is being generated only when a user is using a given app or if the data is being generated even when the app is closed or working in the background.\n",
    "\n",
    "Last but not least, let's just check how much missing data there is in the dataset.   "
   ]
  },
  {
   "cell_type": "markdown",
   "metadata": {},
   "source": [
    "How much missing data? "
   ]
  },
  {
   "cell_type": "code",
   "execution_count": 146,
   "metadata": {},
   "outputs": [],
   "source": [
    "# https://stackoverflow.com/a/33308193\n",
    "\n",
    "def blank_as_null(x):\n",
    "    \n",
    "    return (func.when(func.col(x) != \"\", func.col(x))\n",
    "            .otherwise(None))"
   ]
  },
  {
   "cell_type": "code",
   "execution_count": 147,
   "metadata": {},
   "outputs": [
    {
     "data": {
      "text/plain": [
       "{'action',\n",
       " 'api_key',\n",
       " 'app_id',\n",
       " 'beacon_uuid',\n",
       " 'city',\n",
       " 'code',\n",
       " 'community',\n",
       " 'community_code',\n",
       " 'country_code',\n",
       " 'county',\n",
       " 'county_code',\n",
       " 'event_time',\n",
       " 'geohash',\n",
       " 'idfa',\n",
       " 'idfa_hash_alg',\n",
       " 'place',\n",
       " 'platform',\n",
       " 'state',\n",
       " 'state_code',\n",
       " 'user_ip'}"
      ]
     },
     "execution_count": 147,
     "metadata": {},
     "output_type": "execute_result"
    }
   ],
   "source": [
    "# identify string fields in df\n",
    "fields = df.schema.fields\n",
    "\n",
    "str_fields = []\n",
    "\n",
    "for i in range(0,len(fields)):\n",
    "    \n",
    "    if str(fields[i].dataType) in ['StringType']:\n",
    "        str_fields.append(fields[i].name)\n",
    "    \n",
    "# columns to convert\n",
    "to_convert = set(str_fields)\n",
    "\n",
    "to_convert"
   ]
  },
  {
   "cell_type": "code",
   "execution_count": 152,
   "metadata": {},
   "outputs": [],
   "source": [
    "# convert blanks in string columns to None \n",
    "exprs = [\n",
    "    blank_as_null(x).alias(x) if x in to_convert else x for x in df.columns]\n",
    "\n",
    "df = (df.select(*exprs))"
   ]
  },
  {
   "cell_type": "code",
   "execution_count": 153,
   "metadata": {},
   "outputs": [],
   "source": [
    "import missingno as msno"
   ]
  },
  {
   "cell_type": "code",
   "execution_count": 154,
   "metadata": {},
   "outputs": [],
   "source": [
    "# sample 1% of rows randomly\n",
    "temp = (df\n",
    "        .sample(False, 0.01, seed)\n",
    "        .toPandas()\n",
    "       )"
   ]
  },
  {
   "cell_type": "code",
   "execution_count": 155,
   "metadata": {},
   "outputs": [
    {
     "data": {
      "image/png": "[encoded data removed]",
      "text/plain": [
       "<matplotlib.figure.Figure at 0x7fca13be87b8>"
      ]
     },
     "metadata": {},
     "output_type": "display_data"
    }
   ],
   "source": [
    "# visualize\n",
    "msno.matrix(temp, freq=False)\n",
    "plt.show()"
   ]
  },
  {
   "cell_type": "markdown",
   "metadata": {},
   "source": [
    "The missing data situation isn't too bad, seems to affect a handful of columns, none of which are super relevant to the challenge questions.     "
   ]
  },
  {
   "cell_type": "markdown",
   "metadata": {},
   "source": [
    "Cool, think I have a sufficient understanding of the data to actually begin answering the questions from the challenge.  "
   ]
  },
  {
   "cell_type": "markdown",
   "metadata": {},
   "source": [
    "## IDFA statistics\n",
    "\n",
    "**RE: What is the max, min, avg, std dev for the location-events per IDFA?  **\n",
    "\n",
    "Just to be clear, I interpreted question this as:   \n",
    "\n",
    "1. What is the maximum **number of** location-events per IDFA? \n",
    "2. What is the minimum **number of** location-events per IDFA? \n",
    "3. What is the average **number of** location-events per IDFA? \n",
    "4. What is the standard deviation **number of** location-events per IDFA? \n",
    "\n",
    "I assume that each entry/row/record in this dataset is a \"location-event.\"  "
   ]
  },
  {
   "cell_type": "code",
   "execution_count": 157,
   "metadata": {},
   "outputs": [
    {
     "name": "stdout",
     "output_type": "stream",
     "text": [
      "+------------------------------------+-----+\n",
      "|idfa                                |count|\n",
      "+------------------------------------+-----+\n",
      "|b5b237fe-4ab2-4f00-a7c8-c6fa40f30c37|28   |\n",
      "|0894896b-1b58-4b88-bd1a-a03999ff410c|58   |\n",
      "|0446d012-6d80-4b26-b311-997fcbbfb02c|36   |\n",
      "|564fa141-580a-4453-bf9b-29e57d29dc95|72   |\n",
      "|4bf5568f-4369-4219-bc32-4e257ca389ed|31   |\n",
      "+------------------------------------+-----+\n",
      "only showing top 5 rows\n",
      "\n"
     ]
    }
   ],
   "source": [
    "# calculate count of locations per idfa \n",
    "count = (df\n",
    "         .groupby('idfa')\n",
    "         .agg(func.count('*').alias('count'))\n",
    "        )\n",
    "\n",
    "count.show(5, truncate=False)"
   ]
  },
  {
   "cell_type": "code",
   "execution_count": 158,
   "metadata": {},
   "outputs": [
    {
     "name": "stdout",
     "output_type": "stream",
     "text": [
      "+---+----------------+-----+------------------+-------+\n",
      "|min|avg             |max  |stddev            |n      |\n",
      "+---+----------------+-----+------------------+-------+\n",
      "|1  |36.7517578953113|15979|118.61139276213814|8754673|\n",
      "+---+----------------+-----+------------------+-------+\n",
      "\n"
     ]
    }
   ],
   "source": [
    "# calculate min, avg, max, std dev and n for counts\n",
    "stats = (count\n",
    "         .agg(func.min('count').alias('min'),\n",
    "              func.avg('count').alias('avg'),\n",
    "              func.max('count').alias('max'),\n",
    "              func.stddev('count').alias('stddev'), \n",
    "              func.sum('count').alias('n'))\n",
    "            )\n",
    "\n",
    "stats.show(5, truncate=False)"
   ]
  },
  {
   "cell_type": "code",
   "execution_count": 159,
   "metadata": {},
   "outputs": [
    {
     "data": {
      "text/html": [
       "<div>\n",
       "<style>\n",
       "    .dataframe thead tr:only-child th {\n",
       "        text-align: right;\n",
       "    }\n",
       "\n",
       "    .dataframe thead th {\n",
       "        text-align: left;\n",
       "    }\n",
       "\n",
       "    .dataframe tbody tr th {\n",
       "        vertical-align: top;\n",
       "    }\n",
       "</style>\n",
       "<table border=\"1\" class=\"dataframe\">\n",
       "  <thead>\n",
       "    <tr style=\"text-align: right;\">\n",
       "      <th></th>\n",
       "      <th>statistic</th>\n",
       "      <th>value</th>\n",
       "    </tr>\n",
       "  </thead>\n",
       "  <tbody>\n",
       "    <tr>\n",
       "      <th>0</th>\n",
       "      <td>min</td>\n",
       "      <td>1.0</td>\n",
       "    </tr>\n",
       "    <tr>\n",
       "      <th>1</th>\n",
       "      <td>avg</td>\n",
       "      <td>37.0</td>\n",
       "    </tr>\n",
       "    <tr>\n",
       "      <th>2</th>\n",
       "      <td>max</td>\n",
       "      <td>15979.0</td>\n",
       "    </tr>\n",
       "    <tr>\n",
       "      <th>3</th>\n",
       "      <td>stddev</td>\n",
       "      <td>119.0</td>\n",
       "    </tr>\n",
       "    <tr>\n",
       "      <th>4</th>\n",
       "      <td>n</td>\n",
       "      <td>8754673.0</td>\n",
       "    </tr>\n",
       "  </tbody>\n",
       "</table>\n",
       "</div>"
      ],
      "text/plain": [
       "  statistic      value\n",
       "0       min        1.0\n",
       "1       avg       37.0\n",
       "2       max    15979.0\n",
       "3    stddev      119.0\n",
       "4         n  8754673.0"
      ]
     },
     "execution_count": 159,
     "metadata": {},
     "output_type": "execute_result"
    }
   ],
   "source": [
    "temp = (stats\n",
    "        .toPandas()\n",
    "        .transpose()\n",
    "        .reset_index()\n",
    "        .rename(columns={'index': 'statistic', 0: 'value'})\n",
    "       )\n",
    "\n",
    "temp.value = temp.value.round()\n",
    "\n",
    "temp"
   ]
  },
  {
   "cell_type": "markdown",
   "metadata": {},
   "source": [
    "This is a useful summary of the distribution of the data but I find histograms to be a little easier to digest. "
   ]
  },
  {
   "cell_type": "code",
   "execution_count": 160,
   "metadata": {},
   "outputs": [],
   "source": [
    "histogram = (count\n",
    "             .select('count')\n",
    "             .filter(\"count <= 500\")\n",
    "             # bad solution switching to rdd\n",
    "             # sadly histogram is not available for DFs\n",
    "             .rdd\n",
    "             .flatMap(lambda x: x)\n",
    "             .histogram(1000)\n",
    "            )"
   ]
  },
  {
   "cell_type": "code",
   "execution_count": 161,
   "metadata": {},
   "outputs": [],
   "source": [
    "temp = (pd.DataFrame(list(histogram))\n",
    "        .transpose()\n",
    "        .rename(columns={0: 'bin', 1: 'count'})\n",
    "       )\n",
    "\n",
    "temp['bin'] = round(temp['bin'], 2)\n",
    "\n",
    "temp = temp.set_index('bin')\n",
    "\n",
    "# temp.head()"
   ]
  },
  {
   "cell_type": "code",
   "execution_count": 163,
   "metadata": {},
   "outputs": [
    {
     "name": "stderr",
     "output_type": "stream",
     "text": [
      "/home/fqaiser94/.local/lib/python3.5/site-packages/matplotlib/figure.py:403: UserWarning: matplotlib is currently using a non-GUI backend, so cannot show the figure\n",
      "  \"matplotlib is currently using a non-GUI backend, \"\n"
     ]
    },
    {
     "data": {
      "image/png": "[encoded data removed]",
      "text/plain": [
       "<matplotlib.figure.Figure at 0x7fca0a7c59e8>"
      ]
     },
     "metadata": {},
     "output_type": "display_data"
    }
   ],
   "source": [
    "n = 50\n",
    "\n",
    "ax = temp.plot(kind='bar', y='count', figsize=(12, 5))\n",
    "\n",
    "plt.ylabel('Number of IDFAs')\n",
    "plt.xlabel('Number of location events per IDFA')\n",
    "\n",
    "ax.figure.show()"
   ]
  },
  {
   "cell_type": "markdown",
   "metadata": {},
   "source": [
    "Humm, since this dataset really only covers a day, it makes sense that ~99% of IDFA have less than 300 locations-events associated with them. "
   ]
  },
  {
   "cell_type": "markdown",
   "metadata": {},
   "source": [
    "##  Geohashing\n",
    "\n",
    "**RE: Produce geohashes for all coordinates in a new RDD or DataFrame.**  \n",
    "\n",
    "Great intro to [geohashing](http://www.bigfastblog.com/geohash-intro)  \n",
    "[Wiki](https://en.wikipedia.org/wiki/Geohash) on geohashing"
   ]
  },
  {
   "cell_type": "code",
   "execution_count": 164,
   "metadata": {},
   "outputs": [],
   "source": [
    "# if you get an error running this cmd, try installing via the following cmd\n",
    "# sudo pip install python-geohash\n",
    "\n",
    "import Geohash"
   ]
  },
  {
   "cell_type": "markdown",
   "metadata": {},
   "source": [
    "Let's see what methods we have in Geohash. "
   ]
  },
  {
   "cell_type": "code",
   "execution_count": 166,
   "metadata": {},
   "outputs": [
    {
     "data": {
      "text/plain": [
       "['__builtins__',\n",
       " '__cached__',\n",
       " '__doc__',\n",
       " '__file__',\n",
       " '__loader__',\n",
       " '__name__',\n",
       " '__package__',\n",
       " '__path__',\n",
       " '__spec__',\n",
       " 'decode',\n",
       " 'decode_exactly',\n",
       " 'encode']"
      ]
     },
     "execution_count": 166,
     "metadata": {},
     "output_type": "execute_result"
    }
   ],
   "source": [
    "dir(Geohash) "
   ]
  },
  {
   "cell_type": "markdown",
   "metadata": {},
   "source": [
    "*encode* sounds like what we're looking for, let's see what help says. "
   ]
  },
  {
   "cell_type": "code",
   "execution_count": 167,
   "metadata": {},
   "outputs": [
    {
     "name": "stdout",
     "output_type": "stream",
     "text": [
      "Help on function encode in module geohash:\n",
      "\n",
      "encode(latitude, longitude, precision=12)\n",
      "\n"
     ]
    }
   ],
   "source": [
    "help(Geohash.encode)"
   ]
  },
  {
   "cell_type": "code",
   "execution_count": 190,
   "metadata": {},
   "outputs": [],
   "source": [
    "def geohash_coords(lat,lng,precision):\n",
    "    \n",
    "    \"\"\"\n",
    "    Function to return hash code for a coordinate of a given precision\n",
    "    \"\"\"\n",
    "    \n",
    "    hashcode = Geohash.encode(lat,lng)[:precision]\n",
    "    \n",
    "    return hashcode"
   ]
  },
  {
   "cell_type": "code",
   "execution_count": 191,
   "metadata": {},
   "outputs": [],
   "source": [
    "strg = geohash_coords(lat=49,lng=-84,precision=15)"
   ]
  },
  {
   "cell_type": "markdown",
   "metadata": {},
   "source": [
    "Lat and long are provided with each record in our dataset. The only question is what level precision do we want? Since we're trying to find clusters of people, the precision should be high. I would consider people in the same building to be a cluster. I would not consider people in the same city to be a cluster. Let's see what level of precision would correspond to a building.  "
   ]
  },
  {
   "cell_type": "code",
   "execution_count": 192,
   "metadata": {},
   "outputs": [],
   "source": [
    "import pyproj\n",
    "from shapely.geometry import shape\n",
    "from shapely.ops import transform\n",
    "from functools import partial"
   ]
  },
  {
   "cell_type": "code",
   "execution_count": 193,
   "metadata": {},
   "outputs": [],
   "source": [
    "def calc_area_metres(y,x,yerror,xerror):\n",
    "    \n",
    "    \"\"\"\n",
    "    https://gist.github.com/robinkraft/c6de2f988c9d3f01af3c\n",
    "    get the area in square meters of a polygon using shapely and pyproj\n",
    "    \"\"\"\n",
    "    \n",
    "    # bottom left corner of rectangle\n",
    "    y1 = y - yerror\n",
    "    x1 = x - xerror\n",
    "    \n",
    "    # top left corner of rectangle\n",
    "    y2 = y + yerror\n",
    "    x2 = x - xerror\n",
    "    \n",
    "    # top right corner of rectangle\n",
    "    y3 = y + yerror\n",
    "    x3 = x + xerror\n",
    "    \n",
    "    # bottom right corner of rectangle\n",
    "    y4 = y - yerror\n",
    "    x4 = x + xerror\n",
    "    \n",
    "    geom = {'type': 'Polygon',\n",
    "            'coordinates': [[[y1, x1], [y2, x2],\n",
    "                             [y3, x3], [y4, x4], \n",
    "                             [y1, x1]]]}\n",
    "\n",
    "    s = shape(geom)\n",
    "    \n",
    "    proj = partial(pyproj.transform, pyproj.Proj(init='epsg:4326'),\n",
    "                   pyproj.Proj(init='epsg:3857'))\n",
    "\n",
    "    s_new = transform(proj, s)\n",
    "\n",
    "    projected_area = transform(proj, s).area\n",
    "\n",
    "    return projected_area"
   ]
  },
  {
   "cell_type": "code",
   "execution_count": 194,
   "metadata": {},
   "outputs": [
    {
     "name": "stdout",
     "output_type": "stream",
     "text": [
      "Precision 1\n",
      "\tDecoded coordinates are (67.5,-67.5)\n",
      "\tSize is approximately 45.0 long by 45.0 lat\n",
      "\tArea is 2025.0 approximately square degrees\n",
      "\tArea is nan approximately square meters\n",
      "Precision 2\n",
      "\tDecoded coordinates are (47.8125,-84.375)\n",
      "\tSize is approximately 11.25 long by 5.625 lat\n",
      "\tArea is 63.28125 approximately square degrees\n",
      "\tArea is nan approximately square meters\n",
      "Precision 3\n",
      "\tDecoded coordinates are (48.515625,-83.671875)\n",
      "\tSize is approximately 1.40625 long by 1.40625 lat\n",
      "\tArea is 1.9775390625 approximately square degrees\n",
      "\tArea is 223250076108.0 approximately square meters\n",
      "Precision 4\n",
      "\tDecoded coordinates are (48.955078125,-83.84765625)\n",
      "\tSize is approximately 0.3515625 long by 0.17578125 lat\n",
      "\tArea is 0.061798095703125 approximately square degrees\n",
      "\tArea is 7147471764.0 approximately square meters\n",
      "Precision 5\n",
      "\tDecoded coordinates are (49.02099609375,-84.00146484375)\n",
      "\tSize is approximately 0.0439453125 long by 0.0439453125 lat\n",
      "\tArea is 0.0019311904907226562 approximately square degrees\n",
      "\tArea is 229002679.0 approximately square meters\n",
      "Precision 6\n",
      "\tDecoded coordinates are (49.00177001953125,-83.9959716796875)\n",
      "\tSize is approximately 0.010986328125 long by 0.0054931640625 lat\n",
      "\tArea is 6.034970283508301e-05 approximately square degrees\n",
      "\tArea is 7149780.0 approximately square meters\n",
      "Precision 7\n",
      "\tDecoded coordinates are (48.99971008300781,-83.99940490722656)\n",
      "\tSize is approximately 0.001373291015625 long by 0.001373291015625 lat\n",
      "\tArea is 1.885928213596344e-06 approximately square degrees\n",
      "\tArea is 223558.0 approximately square meters\n",
      "Precision 8\n",
      "\tDecoded coordinates are (48.99996757507324,-83.99991989135742)\n",
      "\tSize is approximately 0.00034332275390625 long by 0.000171661376953125 lat\n",
      "\tArea is 5.893525667488575e-08 approximately square degrees\n",
      "\tArea is 6987.0 approximately square meters\n",
      "Precision 9\n",
      "\tDecoded coordinates are (48.99998903274536,-83.99998426437378)\n",
      "\tSize is approximately 4.291534423828125e-05 long by 4.291534423828125e-05 lat\n",
      "\tArea is 1.8417267710901797e-09 approximately square degrees\n",
      "\tArea is 218.0 approximately square meters\n",
      "Precision 10\n",
      "\tDecoded coordinates are (49.000002443790436,-84.00000035762787)\n",
      "\tSize is approximately 1.0728836059570312e-05 long by 5.364418029785156e-06 lat\n",
      "\tArea is 5.7553961596568115e-11 approximately square degrees\n",
      "\tArea is 7.0 approximately square meters\n"
     ]
    }
   ],
   "source": [
    "# https://gis.stackexchange.com/questions/231719/calculating-optimal-geohash-precision-from-bounding-box\n",
    "# https://gis.stackexchange.com/questions/115280/what-is-the-precision-of-a-geohash\n",
    "\n",
    "strg = geohash_coords(lat=49,lng=-84,precision=15)\n",
    "\n",
    "for prec in range(1,11):\n",
    "    \n",
    "    y,x,yerror,xerror = Geohash.decode_exactly(strg[:prec])\n",
    "    xsize = 2*xerror\n",
    "    ysize = 2*yerror\n",
    "    area = xsize*ysize\n",
    "    area_meters = calc_area_metres(y=y,x=x,yerror=yerror,xerror=xerror)\n",
    "    \n",
    "    print(\"Precision {}\".format(prec))\n",
    "    print(\"\\tDecoded coordinates are ({},{})\".format(y,x))\n",
    "    print(\"\\tSize is approximately {} long by {} lat\".format(xsize,ysize))\n",
    "    print(\"\\tArea is {} approximately square degrees\".format(area))\n",
    "    print(\"\\tArea is {} approximately square meters\".format(round(area_meters,0)))"
   ]
  },
  {
   "cell_type": "code",
   "execution_count": 188,
   "metadata": {},
   "outputs": [],
   "source": [
    "geohash_coords_udf = func.udf(geohash_coords, StringType())"
   ]
  },
  {
   "cell_type": "code",
   "execution_count": 189,
   "metadata": {},
   "outputs": [
    {
     "data": {
      "text/html": [
       "<div>\n",
       "<style>\n",
       "    .dataframe thead tr:only-child th {\n",
       "        text-align: right;\n",
       "    }\n",
       "\n",
       "    .dataframe thead th {\n",
       "        text-align: left;\n",
       "    }\n",
       "\n",
       "    .dataframe tbody tr th {\n",
       "        vertical-align: top;\n",
       "    }\n",
       "</style>\n",
       "<table border=\"1\" class=\"dataframe\">\n",
       "  <thead>\n",
       "    <tr style=\"text-align: right;\">\n",
       "      <th></th>\n",
       "      <th>action</th>\n",
       "      <th>api_key</th>\n",
       "      <th>app_id</th>\n",
       "      <th>beacon_major</th>\n",
       "      <th>beacon_minor</th>\n",
       "      <th>beacon_uuid</th>\n",
       "      <th>city</th>\n",
       "      <th>code</th>\n",
       "      <th>community</th>\n",
       "      <th>community_code</th>\n",
       "      <th>country_code</th>\n",
       "      <th>county</th>\n",
       "      <th>county_code</th>\n",
       "      <th>event_time</th>\n",
       "      <th>geohash</th>\n",
       "      <th>horizontal_accuracy</th>\n",
       "      <th>idfa</th>\n",
       "      <th>idfa_hash_alg</th>\n",
       "      <th>lat</th>\n",
       "      <th>lng</th>\n",
       "      <th>place</th>\n",
       "      <th>platform</th>\n",
       "      <th>state</th>\n",
       "      <th>state_code</th>\n",
       "      <th>user_ip</th>\n",
       "      <th>geohash_2</th>\n",
       "    </tr>\n",
       "  </thead>\n",
       "  <tbody>\n",
       "    <tr>\n",
       "      <th>0</th>\n",
       "      <td>listrequest</td>\n",
       "      <td>9c4523f4cde116f32bf370656b35129cd9ced93c6ce6c1246</td>\n",
       "      <td>smartphones.collegescoreboard.football</td>\n",
       "      <td>0</td>\n",
       "      <td>0</td>\n",
       "      <td>None</td>\n",
       "      <td>Littleton</td>\n",
       "      <td>80123</td>\n",
       "      <td>None</td>\n",
       "      <td>None</td>\n",
       "      <td>US</td>\n",
       "      <td>Jefferson</td>\n",
       "      <td>059</td>\n",
       "      <td>2017-04-01 13:04:40</td>\n",
       "      <td>9xj32w4r1z1m</td>\n",
       "      <td>0.0</td>\n",
       "      <td>c50ab245-d660-435e-a226-8d311d2aebbf</td>\n",
       "      <td>None</td>\n",
       "      <td>39.628926</td>\n",
       "      <td>-105.092048</td>\n",
       "      <td>Littleton</td>\n",
       "      <td>android</td>\n",
       "      <td>Colorado</td>\n",
       "      <td>CO</td>\n",
       "      <td>184.96.241.157</td>\n",
       "      <td>9xj32w4r1</td>\n",
       "    </tr>\n",
       "    <tr>\n",
       "      <th>1</th>\n",
       "      <td>virtual_beacon_list_request</td>\n",
       "      <td>9de1430e73cc96f15272a8a081d127746d3d4ef3d123b6adb</td>\n",
       "      <td>com.airkast.kbxxfm</td>\n",
       "      <td>0</td>\n",
       "      <td>0</td>\n",
       "      <td>None</td>\n",
       "      <td>Houston</td>\n",
       "      <td>77067</td>\n",
       "      <td>None</td>\n",
       "      <td>None</td>\n",
       "      <td>US</td>\n",
       "      <td>Harris</td>\n",
       "      <td>201</td>\n",
       "      <td>2017-04-01 13:04:40</td>\n",
       "      <td>9vk47vts9tx0</td>\n",
       "      <td>9.0</td>\n",
       "      <td>8c14186b-070d-4933-a28f-a64e97afbb96</td>\n",
       "      <td>None</td>\n",
       "      <td>29.957772</td>\n",
       "      <td>-95.452578</td>\n",
       "      <td>Houston</td>\n",
       "      <td>android</td>\n",
       "      <td>Texas</td>\n",
       "      <td>TX</td>\n",
       "      <td>45.18.76.214</td>\n",
       "      <td>9vk47vts9</td>\n",
       "    </tr>\n",
       "    <tr>\n",
       "      <th>2</th>\n",
       "      <td>listrequest</td>\n",
       "      <td>9c4523f4cde116f32bf370656b35129cd9ced93c6ce6c1246</td>\n",
       "      <td>smartphones.collegescoreboard.football</td>\n",
       "      <td>0</td>\n",
       "      <td>0</td>\n",
       "      <td>None</td>\n",
       "      <td>Groton</td>\n",
       "      <td>01450</td>\n",
       "      <td>None</td>\n",
       "      <td>None</td>\n",
       "      <td>US</td>\n",
       "      <td>Middlesex</td>\n",
       "      <td>017</td>\n",
       "      <td>2017-04-01 13:04:40</td>\n",
       "      <td>drt4k62nrypf</td>\n",
       "      <td>0.0</td>\n",
       "      <td>1ed5c7d3-6b7b-4cbe-a726-7429eb1828c0</td>\n",
       "      <td>None</td>\n",
       "      <td>42.596473</td>\n",
       "      <td>-71.531639</td>\n",
       "      <td>Groton</td>\n",
       "      <td>android</td>\n",
       "      <td>Massachusetts</td>\n",
       "      <td>MA</td>\n",
       "      <td>174.192.25.246</td>\n",
       "      <td>drt4k62nr</td>\n",
       "    </tr>\n",
       "    <tr>\n",
       "      <th>3</th>\n",
       "      <td>listrequest</td>\n",
       "      <td>e9d18b6c1b97cd776b1cd0c034a46738493151dc8e512acf0</td>\n",
       "      <td>com.checkout51.rc</td>\n",
       "      <td>0</td>\n",
       "      <td>0</td>\n",
       "      <td>None</td>\n",
       "      <td>Media</td>\n",
       "      <td>19063</td>\n",
       "      <td>None</td>\n",
       "      <td>None</td>\n",
       "      <td>US</td>\n",
       "      <td>Delaware</td>\n",
       "      <td>045</td>\n",
       "      <td>2017-04-01 13:04:40</td>\n",
       "      <td>dr475f915hgy</td>\n",
       "      <td>0.0</td>\n",
       "      <td>9350ce13-d0a3-422b-a047-0f534d69c217</td>\n",
       "      <td>None</td>\n",
       "      <td>39.916275</td>\n",
       "      <td>-75.419635</td>\n",
       "      <td>Media</td>\n",
       "      <td>ios</td>\n",
       "      <td>Pennsylvania</td>\n",
       "      <td>PA</td>\n",
       "      <td>107.77.204.113</td>\n",
       "      <td>dr475f915</td>\n",
       "    </tr>\n",
       "    <tr>\n",
       "      <th>4</th>\n",
       "      <td>listrequest</td>\n",
       "      <td>9c4523f4cde116f32bf370656b35129cd9ced93c6ce6c1246</td>\n",
       "      <td>smartphones.collegescoreboard.football</td>\n",
       "      <td>0</td>\n",
       "      <td>0</td>\n",
       "      <td>None</td>\n",
       "      <td>Paw Paw</td>\n",
       "      <td>49079</td>\n",
       "      <td>None</td>\n",
       "      <td>None</td>\n",
       "      <td>US</td>\n",
       "      <td>Van Buren</td>\n",
       "      <td>159</td>\n",
       "      <td>2017-04-01 13:04:40</td>\n",
       "      <td>dp6zvrr3u6wk</td>\n",
       "      <td>0.0</td>\n",
       "      <td>a6e440f4-695b-42b2-a149-b6da243d7ea5</td>\n",
       "      <td>None</td>\n",
       "      <td>42.183695</td>\n",
       "      <td>-85.891952</td>\n",
       "      <td>Paw Paw</td>\n",
       "      <td>android</td>\n",
       "      <td>Michigan</td>\n",
       "      <td>MI</td>\n",
       "      <td>50.107.82.231</td>\n",
       "      <td>dp6zvrr3u</td>\n",
       "    </tr>\n",
       "  </tbody>\n",
       "</table>\n",
       "</div>"
      ],
      "text/plain": [
       "                        action  \\\n",
       "0                  listrequest   \n",
       "1  virtual_beacon_list_request   \n",
       "2                  listrequest   \n",
       "3                  listrequest   \n",
       "4                  listrequest   \n",
       "\n",
       "                                             api_key  \\\n",
       "0  9c4523f4cde116f32bf370656b35129cd9ced93c6ce6c1246   \n",
       "1  9de1430e73cc96f15272a8a081d127746d3d4ef3d123b6adb   \n",
       "2  9c4523f4cde116f32bf370656b35129cd9ced93c6ce6c1246   \n",
       "3  e9d18b6c1b97cd776b1cd0c034a46738493151dc8e512acf0   \n",
       "4  9c4523f4cde116f32bf370656b35129cd9ced93c6ce6c1246   \n",
       "\n",
       "                                   app_id  beacon_major  beacon_minor  \\\n",
       "0  smartphones.collegescoreboard.football             0             0   \n",
       "1                      com.airkast.kbxxfm             0             0   \n",
       "2  smartphones.collegescoreboard.football             0             0   \n",
       "3                       com.checkout51.rc             0             0   \n",
       "4  smartphones.collegescoreboard.football             0             0   \n",
       "\n",
       "  beacon_uuid       city   code community community_code country_code  \\\n",
       "0        None  Littleton  80123      None           None           US   \n",
       "1        None    Houston  77067      None           None           US   \n",
       "2        None     Groton  01450      None           None           US   \n",
       "3        None      Media  19063      None           None           US   \n",
       "4        None    Paw Paw  49079      None           None           US   \n",
       "\n",
       "      county county_code           event_time       geohash  \\\n",
       "0  Jefferson         059  2017-04-01 13:04:40  9xj32w4r1z1m   \n",
       "1     Harris         201  2017-04-01 13:04:40  9vk47vts9tx0   \n",
       "2  Middlesex         017  2017-04-01 13:04:40  drt4k62nrypf   \n",
       "3   Delaware         045  2017-04-01 13:04:40  dr475f915hgy   \n",
       "4  Van Buren         159  2017-04-01 13:04:40  dp6zvrr3u6wk   \n",
       "\n",
       "   horizontal_accuracy                                  idfa idfa_hash_alg  \\\n",
       "0                  0.0  c50ab245-d660-435e-a226-8d311d2aebbf          None   \n",
       "1                  9.0  8c14186b-070d-4933-a28f-a64e97afbb96          None   \n",
       "2                  0.0  1ed5c7d3-6b7b-4cbe-a726-7429eb1828c0          None   \n",
       "3                  0.0  9350ce13-d0a3-422b-a047-0f534d69c217          None   \n",
       "4                  0.0  a6e440f4-695b-42b2-a149-b6da243d7ea5          None   \n",
       "\n",
       "         lat         lng      place platform          state state_code  \\\n",
       "0  39.628926 -105.092048  Littleton  android       Colorado         CO   \n",
       "1  29.957772  -95.452578    Houston  android          Texas         TX   \n",
       "2  42.596473  -71.531639     Groton  android  Massachusetts         MA   \n",
       "3  39.916275  -75.419635      Media      ios   Pennsylvania         PA   \n",
       "4  42.183695  -85.891952    Paw Paw  android       Michigan         MI   \n",
       "\n",
       "          user_ip  geohash_2  \n",
       "0  184.96.241.157  9xj32w4r1  \n",
       "1    45.18.76.214  9vk47vts9  \n",
       "2  174.192.25.246  drt4k62nr  \n",
       "3  107.77.204.113  dr475f915  \n",
       "4   50.107.82.231  dp6zvrr3u  "
      ]
     },
     "execution_count": 189,
     "metadata": {},
     "output_type": "execute_result"
    }
   ],
   "source": [
    "df_geohash = (df\n",
    "              .withColumn(\"geohash_2\", \n",
    "                          geohash_coords_udf(\"lat\", \"lng\", func.lit(9)))\n",
    "             )\n",
    "\n",
    "df_geohash.limit(5).toPandas()"
   ]
  },
  {
   "cell_type": "markdown",
   "metadata": {},
   "source": [
    "Cheating a little here but you can see our geohashes (geohash_2) are very similar to the ones provided with the dataset (geohash column), just a slightly lower precision.  "
   ]
  },
  {
   "cell_type": "markdown",
   "metadata": {},
   "source": [
    "## Clustering\n",
    "\n",
    "** RE: Using the geohashes, determine if there clusters of people at any point in this dataset. If so, how many people and how close are they?**  \n",
    "\n",
    "Aight, so my definition of a cluster is when there a large (>100) number of people in building-sized area during any hour. Let's see if we can find any cluster that meets this definition using our geohashes.  "
   ]
  },
  {
   "cell_type": "code",
   "execution_count": 195,
   "metadata": {},
   "outputs": [
    {
     "data": {
      "text/html": [
       "<div>\n",
       "<style>\n",
       "    .dataframe thead tr:only-child th {\n",
       "        text-align: right;\n",
       "    }\n",
       "\n",
       "    .dataframe thead th {\n",
       "        text-align: left;\n",
       "    }\n",
       "\n",
       "    .dataframe tbody tr th {\n",
       "        vertical-align: top;\n",
       "    }\n",
       "</style>\n",
       "<table border=\"1\" class=\"dataframe\">\n",
       "  <thead>\n",
       "    <tr style=\"text-align: right;\">\n",
       "      <th></th>\n",
       "      <th>geohash_2</th>\n",
       "      <th>hour</th>\n",
       "      <th>users</th>\n",
       "    </tr>\n",
       "  </thead>\n",
       "  <tbody>\n",
       "    <tr>\n",
       "      <th>0</th>\n",
       "      <td>s00000000</td>\n",
       "      <td>13</td>\n",
       "      <td>355</td>\n",
       "    </tr>\n",
       "    <tr>\n",
       "      <th>1</th>\n",
       "      <td>s00000000</td>\n",
       "      <td>12</td>\n",
       "      <td>336</td>\n",
       "    </tr>\n",
       "    <tr>\n",
       "      <th>2</th>\n",
       "      <td>s00000000</td>\n",
       "      <td>11</td>\n",
       "      <td>333</td>\n",
       "    </tr>\n",
       "    <tr>\n",
       "      <th>3</th>\n",
       "      <td>s00000000</td>\n",
       "      <td>16</td>\n",
       "      <td>332</td>\n",
       "    </tr>\n",
       "    <tr>\n",
       "      <th>4</th>\n",
       "      <td>s00000000</td>\n",
       "      <td>14</td>\n",
       "      <td>320</td>\n",
       "    </tr>\n",
       "    <tr>\n",
       "      <th>5</th>\n",
       "      <td>s00000000</td>\n",
       "      <td>18</td>\n",
       "      <td>319</td>\n",
       "    </tr>\n",
       "    <tr>\n",
       "      <th>6</th>\n",
       "      <td>s00000000</td>\n",
       "      <td>17</td>\n",
       "      <td>305</td>\n",
       "    </tr>\n",
       "    <tr>\n",
       "      <th>7</th>\n",
       "      <td>s00000000</td>\n",
       "      <td>20</td>\n",
       "      <td>292</td>\n",
       "    </tr>\n",
       "    <tr>\n",
       "      <th>8</th>\n",
       "      <td>s00000000</td>\n",
       "      <td>21</td>\n",
       "      <td>290</td>\n",
       "    </tr>\n",
       "    <tr>\n",
       "      <th>9</th>\n",
       "      <td>s00000000</td>\n",
       "      <td>19</td>\n",
       "      <td>289</td>\n",
       "    </tr>\n",
       "    <tr>\n",
       "      <th>10</th>\n",
       "      <td>s00000000</td>\n",
       "      <td>15</td>\n",
       "      <td>279</td>\n",
       "    </tr>\n",
       "    <tr>\n",
       "      <th>11</th>\n",
       "      <td>s00000000</td>\n",
       "      <td>10</td>\n",
       "      <td>278</td>\n",
       "    </tr>\n",
       "    <tr>\n",
       "      <th>12</th>\n",
       "      <td>s00000000</td>\n",
       "      <td>22</td>\n",
       "      <td>249</td>\n",
       "    </tr>\n",
       "    <tr>\n",
       "      <th>13</th>\n",
       "      <td>s00000000</td>\n",
       "      <td>9</td>\n",
       "      <td>231</td>\n",
       "    </tr>\n",
       "    <tr>\n",
       "      <th>14</th>\n",
       "      <td>s00000000</td>\n",
       "      <td>8</td>\n",
       "      <td>213</td>\n",
       "    </tr>\n",
       "    <tr>\n",
       "      <th>15</th>\n",
       "      <td>s00000000</td>\n",
       "      <td>23</td>\n",
       "      <td>206</td>\n",
       "    </tr>\n",
       "    <tr>\n",
       "      <th>16</th>\n",
       "      <td>s00000000</td>\n",
       "      <td>0</td>\n",
       "      <td>162</td>\n",
       "    </tr>\n",
       "    <tr>\n",
       "      <th>17</th>\n",
       "      <td>s00000000</td>\n",
       "      <td>1</td>\n",
       "      <td>112</td>\n",
       "    </tr>\n",
       "    <tr>\n",
       "      <th>18</th>\n",
       "      <td>s00000000</td>\n",
       "      <td>7</td>\n",
       "      <td>105</td>\n",
       "    </tr>\n",
       "    <tr>\n",
       "      <th>19</th>\n",
       "      <td>s00000000</td>\n",
       "      <td>2</td>\n",
       "      <td>64</td>\n",
       "    </tr>\n",
       "  </tbody>\n",
       "</table>\n",
       "</div>"
      ],
      "text/plain": [
       "    geohash_2  hour  users\n",
       "0   s00000000    13    355\n",
       "1   s00000000    12    336\n",
       "2   s00000000    11    333\n",
       "3   s00000000    16    332\n",
       "4   s00000000    14    320\n",
       "5   s00000000    18    319\n",
       "6   s00000000    17    305\n",
       "7   s00000000    20    292\n",
       "8   s00000000    21    290\n",
       "9   s00000000    19    289\n",
       "10  s00000000    15    279\n",
       "11  s00000000    10    278\n",
       "12  s00000000    22    249\n",
       "13  s00000000     9    231\n",
       "14  s00000000     8    213\n",
       "15  s00000000    23    206\n",
       "16  s00000000     0    162\n",
       "17  s00000000     1    112\n",
       "18  s00000000     7    105\n",
       "19  s00000000     2     64"
      ]
     },
     "execution_count": 195,
     "metadata": {},
     "output_type": "execute_result"
    }
   ],
   "source": [
    "cluster = (df_geohash\n",
    "           # we can exploit the fact that this dataset only contains 1 day\n",
    "           # otherwise this code would be erroneous\n",
    "           .withColumn('hour', func.hour('event_time'))\n",
    "           .groupby('geohash_2', 'hour')\n",
    "           .agg(func.countDistinct('idfa').alias('users'))\n",
    "           .filter(\"users >= 10\")\n",
    "           .orderBy('users', ascending=False)\n",
    "          )\n",
    "\n",
    "cluster.limit(20).toPandas()"
   ]
  },
  {
   "cell_type": "markdown",
   "metadata": {},
   "source": [
    "Getting a lot of users from the village of Barrigada in the United States territory of Guam. That doesn't make any sense ... let's try excluding s00000000.  "
   ]
  },
  {
   "cell_type": "code",
   "execution_count": null,
   "metadata": {},
   "outputs": [],
   "source": [
    "ignore = 's00000000'\n",
    "\n",
    "cluster = (df_geohash\n",
    "           .filter(func.col('geohash_2')!= ignore)\n",
    "           # we can exploit the fact that this dataset only contains 1 day\n",
    "           # otherwise this code would be erroneous\n",
    "           .withColumn('hour', func.hour('event_time'))\n",
    "           .groupby('geohash_2', 'hour')\n",
    "           .agg(func.countDistinct('idfa').alias('users'))\n",
    "           .filter(\"users >= 10\")\n",
    "           .orderBy('users', ascending=False)\n",
    "          )\n",
    "\n",
    "cluster.limit(20).toPandas()"
   ]
  },
  {
   "cell_type": "markdown",
   "metadata": {},
   "source": [
    "That makes more sense. Sadly, the \"clusters\" appear to be quite small, with less than 22 users in most cases.   \n",
    "\n",
    "To answer the question then, no, I do not see any clusters of people at any point in this dataset.  "
   ]
  },
  {
   "cell_type": "code",
   "execution_count": null,
   "metadata": {},
   "outputs": [],
   "source": []
  },
  {
   "cell_type": "code",
   "execution_count": null,
   "metadata": {},
   "outputs": [],
   "source": []
  },
  {
   "cell_type": "code",
   "execution_count": null,
   "metadata": {},
   "outputs": [],
   "source": []
  }
 ],
 "metadata": {
  "kernelspec": {
   "display_name": "Python 3",
   "language": "python",
   "name": "python3"
  },
  "language_info": {
   "codemirror_mode": {
    "name": "ipython",
    "version": 3
   },
   "file_extension": ".py",
   "mimetype": "text/x-python",
   "name": "python",
   "nbconvert_exporter": "python",
   "pygments_lexer": "ipython3",
   "version": "3.5.2"
  }
 },
 "nbformat": 4,
 "nbformat_minor": 2
}
