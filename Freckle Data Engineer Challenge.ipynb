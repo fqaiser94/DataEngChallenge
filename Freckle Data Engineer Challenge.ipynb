{
 "cells": [
  {
   "cell_type": "markdown",
   "metadata": {},
   "source": [
    "# Freckle Data Engineer Challenge\n",
    "*22 Oct 2017  \n",
    "Farooq Qaiser* "
   ]
  },
  {
   "cell_type": "markdown",
   "metadata": {},
   "source": [
    "## Admin  "
   ]
  },
  {
   "cell_type": "markdown",
   "metadata": {},
   "source": [
    "initialize PySpark"
   ]
  },
  {
   "cell_type": "code",
   "execution_count": 2,
   "metadata": {},
   "outputs": [],
   "source": [
    "import findspark\n",
    "\n",
    "findspark.init()"
   ]
  },
  {
   "cell_type": "code",
   "execution_count": 3,
   "metadata": {},
   "outputs": [],
   "source": [
    "from pyspark.sql import SparkSession\n",
    "\n",
    "spark = SparkSession \\\n",
    "    .builder \\\n",
    "    .appName(\"Freckle_challenge\") \\\n",
    "    .config(\"spark.some.config.option\", \"some-value\") \\\n",
    "    .getOrCreate()"
   ]
  },
  {
   "cell_type": "markdown",
   "metadata": {},
   "source": [
    "Load some of the basic libraries (we'll load others as we need them). "
   ]
  },
  {
   "cell_type": "code",
   "execution_count": 5,
   "metadata": {},
   "outputs": [],
   "source": [
    "from pyspark.sql import functions as func\n",
    "\n",
    "import numpy as np\n",
    "import matplotlib.pyplot as plt\n",
    "import pandas as pd"
   ]
  },
  {
   "cell_type": "markdown",
   "metadata": {},
   "source": [
    "Set some display options. "
   ]
  },
  {
   "cell_type": "code",
   "execution_count": 6,
   "metadata": {},
   "outputs": [],
   "source": [
    "# show plots inline\n",
    "%matplotlib inline"
   ]
  },
  {
   "cell_type": "markdown",
   "metadata": {},
   "source": [
    "Set some parameters.  "
   ]
  },
  {
   "cell_type": "code",
   "execution_count": 12,
   "metadata": {},
   "outputs": [],
   "source": [
    "seed = 1\n",
    "\n",
    "input_path = \"/home/fqaiser94/Data Engineer Challenge/location-data-sample/*.gz\""
   ]
  },
  {
   "cell_type": "markdown",
   "metadata": {},
   "source": [
    "Read in data as dataframe"
   ]
  },
  {
   "cell_type": "code",
   "execution_count": 15,
   "metadata": {},
   "outputs": [],
   "source": [
    "df = spark.read.json(input_path)"
   ]
  },
  {
   "cell_type": "markdown",
   "metadata": {},
   "source": [
    "## RDD vs Dataframe\n",
    "\n",
    "**RE: The expectation for this exercise is that you use Spark 2.x with Scala, Python, or Java. You can use the RDD or Dataframe APIs as you see fit, but please be ready to explain your choices.**  \n",
    "\n",
    "\n",
    "I chose to use the Dataframe API over RDD API because:  \n",
    "1. Dataframe API is able to take advantage of Spark’s Catalyst optimizer by exposing expressions and data fields to a query planner.\n",
    "2. Dataframe API has speed advantage in most cases (see [here](http://www.adsquare.com/comparing-performance-of-spark-dataframes-api-to-spark-rdd/)). \n",
    "3. I find Dataframes an easier construction to work with  "
   ]
  },
  {
   "cell_type": "markdown",
   "metadata": {},
   "source": [
    "## EDA\n",
    "\n",
    "Always helpful to do some EDA to understand our data before diving in.  \n",
    "Lets take a look at the dataframes schema.  "
   ]
  },
  {
   "cell_type": "code",
   "execution_count": 17,
   "metadata": {},
   "outputs": [
    {
     "name": "stdout",
     "output_type": "stream",
     "text": [
      "root\n",
      " |-- action: string (nullable = true)\n",
      " |-- api_key: string (nullable = true)\n",
      " |-- app_id: string (nullable = true)\n",
      " |-- beacon_major: long (nullable = true)\n",
      " |-- beacon_minor: long (nullable = true)\n",
      " |-- beacon_uuid: string (nullable = true)\n",
      " |-- city: string (nullable = true)\n",
      " |-- code: string (nullable = true)\n",
      " |-- community: string (nullable = true)\n",
      " |-- community_code: string (nullable = true)\n",
      " |-- country_code: string (nullable = true)\n",
      " |-- county: string (nullable = true)\n",
      " |-- county_code: string (nullable = true)\n",
      " |-- event_time: long (nullable = true)\n",
      " |-- geohash: string (nullable = true)\n",
      " |-- horizontal_accuracy: double (nullable = true)\n",
      " |-- idfa: string (nullable = true)\n",
      " |-- idfa_hash_alg: string (nullable = true)\n",
      " |-- lat: double (nullable = true)\n",
      " |-- lng: double (nullable = true)\n",
      " |-- place: string (nullable = true)\n",
      " |-- platform: string (nullable = true)\n",
      " |-- state: string (nullable = true)\n",
      " |-- state_code: string (nullable = true)\n",
      " |-- user_ip: string (nullable = true)\n",
      "\n"
     ]
    }
   ],
   "source": [
    "df.printSchema()"
   ]
  },
  {
   "cell_type": "markdown",
   "metadata": {},
   "source": [
    "Humm that's a lot of columns, let's take a peek at our data. "
   ]
  },
  {
   "cell_type": "code",
   "execution_count": 19,
   "metadata": {},
   "outputs": [
    {
     "data": {
      "text/html": [
       "<div>\n",
       "<style>\n",
       "    .dataframe thead tr:only-child th {\n",
       "        text-align: right;\n",
       "    }\n",
       "\n",
       "    .dataframe thead th {\n",
       "        text-align: left;\n",
       "    }\n",
       "\n",
       "    .dataframe tbody tr th {\n",
       "        vertical-align: top;\n",
       "    }\n",
       "</style>\n",
       "<table border=\"1\" class=\"dataframe\">\n",
       "  <thead>\n",
       "    <tr style=\"text-align: right;\">\n",
       "      <th></th>\n",
       "      <th>action</th>\n",
       "      <th>api_key</th>\n",
       "      <th>app_id</th>\n",
       "      <th>beacon_major</th>\n",
       "      <th>beacon_minor</th>\n",
       "      <th>beacon_uuid</th>\n",
       "      <th>city</th>\n",
       "      <th>code</th>\n",
       "      <th>community</th>\n",
       "      <th>community_code</th>\n",
       "      <th>...</th>\n",
       "      <th>horizontal_accuracy</th>\n",
       "      <th>idfa</th>\n",
       "      <th>idfa_hash_alg</th>\n",
       "      <th>lat</th>\n",
       "      <th>lng</th>\n",
       "      <th>place</th>\n",
       "      <th>platform</th>\n",
       "      <th>state</th>\n",
       "      <th>state_code</th>\n",
       "      <th>user_ip</th>\n",
       "    </tr>\n",
       "  </thead>\n",
       "  <tbody>\n",
       "    <tr>\n",
       "      <th>0</th>\n",
       "      <td>listrequest</td>\n",
       "      <td>9c4523f4cde116f32bf370656b35129cd9ced93c6ce6c1246</td>\n",
       "      <td>smartphones.collegescoreboard.football</td>\n",
       "      <td>0</td>\n",
       "      <td>0</td>\n",
       "      <td></td>\n",
       "      <td>Littleton</td>\n",
       "      <td>80123</td>\n",
       "      <td></td>\n",
       "      <td></td>\n",
       "      <td>...</td>\n",
       "      <td>0.0</td>\n",
       "      <td>c50ab245-d660-435e-a226-8d311d2aebbf</td>\n",
       "      <td></td>\n",
       "      <td>39.628926</td>\n",
       "      <td>-105.092048</td>\n",
       "      <td>Littleton</td>\n",
       "      <td>android</td>\n",
       "      <td>Colorado</td>\n",
       "      <td>CO</td>\n",
       "      <td>184.96.241.157</td>\n",
       "    </tr>\n",
       "    <tr>\n",
       "      <th>1</th>\n",
       "      <td>virtual_beacon_list_request</td>\n",
       "      <td>9de1430e73cc96f15272a8a081d127746d3d4ef3d123b6adb</td>\n",
       "      <td>com.airkast.kbxxfm</td>\n",
       "      <td>0</td>\n",
       "      <td>0</td>\n",
       "      <td></td>\n",
       "      <td>Houston</td>\n",
       "      <td>77067</td>\n",
       "      <td></td>\n",
       "      <td></td>\n",
       "      <td>...</td>\n",
       "      <td>9.0</td>\n",
       "      <td>8c14186b-070d-4933-a28f-a64e97afbb96</td>\n",
       "      <td></td>\n",
       "      <td>29.957772</td>\n",
       "      <td>-95.452578</td>\n",
       "      <td>Houston</td>\n",
       "      <td>android</td>\n",
       "      <td>Texas</td>\n",
       "      <td>TX</td>\n",
       "      <td>45.18.76.214</td>\n",
       "    </tr>\n",
       "    <tr>\n",
       "      <th>2</th>\n",
       "      <td>listrequest</td>\n",
       "      <td>9c4523f4cde116f32bf370656b35129cd9ced93c6ce6c1246</td>\n",
       "      <td>smartphones.collegescoreboard.football</td>\n",
       "      <td>0</td>\n",
       "      <td>0</td>\n",
       "      <td></td>\n",
       "      <td>Groton</td>\n",
       "      <td>01450</td>\n",
       "      <td></td>\n",
       "      <td></td>\n",
       "      <td>...</td>\n",
       "      <td>0.0</td>\n",
       "      <td>1ed5c7d3-6b7b-4cbe-a726-7429eb1828c0</td>\n",
       "      <td></td>\n",
       "      <td>42.596473</td>\n",
       "      <td>-71.531639</td>\n",
       "      <td>Groton</td>\n",
       "      <td>android</td>\n",
       "      <td>Massachusetts</td>\n",
       "      <td>MA</td>\n",
       "      <td>174.192.25.246</td>\n",
       "    </tr>\n",
       "    <tr>\n",
       "      <th>3</th>\n",
       "      <td>listrequest</td>\n",
       "      <td>e9d18b6c1b97cd776b1cd0c034a46738493151dc8e512acf0</td>\n",
       "      <td>com.checkout51.rc</td>\n",
       "      <td>0</td>\n",
       "      <td>0</td>\n",
       "      <td></td>\n",
       "      <td>Media</td>\n",
       "      <td>19063</td>\n",
       "      <td></td>\n",
       "      <td></td>\n",
       "      <td>...</td>\n",
       "      <td>0.0</td>\n",
       "      <td>9350ce13-d0a3-422b-a047-0f534d69c217</td>\n",
       "      <td></td>\n",
       "      <td>39.916275</td>\n",
       "      <td>-75.419635</td>\n",
       "      <td>Media</td>\n",
       "      <td>ios</td>\n",
       "      <td>Pennsylvania</td>\n",
       "      <td>PA</td>\n",
       "      <td>107.77.204.113</td>\n",
       "    </tr>\n",
       "    <tr>\n",
       "      <th>4</th>\n",
       "      <td>listrequest</td>\n",
       "      <td>9c4523f4cde116f32bf370656b35129cd9ced93c6ce6c1246</td>\n",
       "      <td>smartphones.collegescoreboard.football</td>\n",
       "      <td>0</td>\n",
       "      <td>0</td>\n",
       "      <td></td>\n",
       "      <td>Paw Paw</td>\n",
       "      <td>49079</td>\n",
       "      <td></td>\n",
       "      <td></td>\n",
       "      <td>...</td>\n",
       "      <td>0.0</td>\n",
       "      <td>a6e440f4-695b-42b2-a149-b6da243d7ea5</td>\n",
       "      <td></td>\n",
       "      <td>42.183695</td>\n",
       "      <td>-85.891952</td>\n",
       "      <td>Paw Paw</td>\n",
       "      <td>android</td>\n",
       "      <td>Michigan</td>\n",
       "      <td>MI</td>\n",
       "      <td>50.107.82.231</td>\n",
       "    </tr>\n",
       "  </tbody>\n",
       "</table>\n",
       "<p>5 rows × 25 columns</p>\n",
       "</div>"
      ],
      "text/plain": [
       "                        action  \\\n",
       "0                  listrequest   \n",
       "1  virtual_beacon_list_request   \n",
       "2                  listrequest   \n",
       "3                  listrequest   \n",
       "4                  listrequest   \n",
       "\n",
       "                                             api_key  \\\n",
       "0  9c4523f4cde116f32bf370656b35129cd9ced93c6ce6c1246   \n",
       "1  9de1430e73cc96f15272a8a081d127746d3d4ef3d123b6adb   \n",
       "2  9c4523f4cde116f32bf370656b35129cd9ced93c6ce6c1246   \n",
       "3  e9d18b6c1b97cd776b1cd0c034a46738493151dc8e512acf0   \n",
       "4  9c4523f4cde116f32bf370656b35129cd9ced93c6ce6c1246   \n",
       "\n",
       "                                   app_id  beacon_major  beacon_minor  \\\n",
       "0  smartphones.collegescoreboard.football             0             0   \n",
       "1                      com.airkast.kbxxfm             0             0   \n",
       "2  smartphones.collegescoreboard.football             0             0   \n",
       "3                       com.checkout51.rc             0             0   \n",
       "4  smartphones.collegescoreboard.football             0             0   \n",
       "\n",
       "  beacon_uuid       city   code community community_code       ...        \\\n",
       "0              Littleton  80123                                ...         \n",
       "1                Houston  77067                                ...         \n",
       "2                 Groton  01450                                ...         \n",
       "3                  Media  19063                                ...         \n",
       "4                Paw Paw  49079                                ...         \n",
       "\n",
       "  horizontal_accuracy                                  idfa idfa_hash_alg  \\\n",
       "0                 0.0  c50ab245-d660-435e-a226-8d311d2aebbf                 \n",
       "1                 9.0  8c14186b-070d-4933-a28f-a64e97afbb96                 \n",
       "2                 0.0  1ed5c7d3-6b7b-4cbe-a726-7429eb1828c0                 \n",
       "3                 0.0  9350ce13-d0a3-422b-a047-0f534d69c217                 \n",
       "4                 0.0  a6e440f4-695b-42b2-a149-b6da243d7ea5                 \n",
       "\n",
       "         lat         lng      place platform          state  state_code  \\\n",
       "0  39.628926 -105.092048  Littleton  android       Colorado          CO   \n",
       "1  29.957772  -95.452578    Houston  android          Texas          TX   \n",
       "2  42.596473  -71.531639     Groton  android  Massachusetts          MA   \n",
       "3  39.916275  -75.419635      Media      ios   Pennsylvania          PA   \n",
       "4  42.183695  -85.891952    Paw Paw  android       Michigan          MI   \n",
       "\n",
       "          user_ip  \n",
       "0  184.96.241.157  \n",
       "1    45.18.76.214  \n",
       "2  174.192.25.246  \n",
       "3  107.77.204.113  \n",
       "4   50.107.82.231  \n",
       "\n",
       "[5 rows x 25 columns]"
      ]
     },
     "execution_count": 19,
     "metadata": {},
     "output_type": "execute_result"
    }
   ],
   "source": [
    "df.limit(5).toPandas()"
   ]
  },
  {
   "cell_type": "code",
   "execution_count": null,
   "metadata": {},
   "outputs": [],
   "source": []
  }
 ],
 "metadata": {
  "kernelspec": {
   "display_name": "Python 3",
   "language": "python",
   "name": "python3"
  },
  "language_info": {
   "codemirror_mode": {
    "name": "ipython",
    "version": 3
   },
   "file_extension": ".py",
   "mimetype": "text/x-python",
   "name": "python",
   "nbconvert_exporter": "python",
   "pygments_lexer": "ipython3",
   "version": "3.5.2"
  }
 },
 "nbformat": 4,
 "nbformat_minor": 2
}
