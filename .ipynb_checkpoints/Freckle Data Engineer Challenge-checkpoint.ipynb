{
 "cells": [
  {
   "cell_type": "markdown",
   "metadata": {},
   "source": [
    "# Freckle Data Engineer Challenge\n",
    "*22 Oct 2017  \n",
    "Farooq Qaiser* "
   ]
  },
  {
   "cell_type": "markdown",
   "metadata": {},
   "source": [
    "## Admin  "
   ]
  },
  {
   "cell_type": "markdown",
   "metadata": {},
   "source": [
    "initialize PySpark"
   ]
  },
  {
   "cell_type": "code",
   "execution_count": 2,
   "metadata": {},
   "outputs": [],
   "source": [
    "import findspark\n",
    "\n",
    "findspark.init()"
   ]
  },
  {
   "cell_type": "code",
   "execution_count": 3,
   "metadata": {},
   "outputs": [],
   "source": [
    "from pyspark.sql import SparkSession\n",
    "\n",
    "spark = SparkSession \\\n",
    "    .builder \\\n",
    "    .appName(\"Freckle_challenge\") \\\n",
    "    .config(\"spark.some.config.option\", \"some-value\") \\\n",
    "    .getOrCreate()"
   ]
  },
  {
   "cell_type": "markdown",
   "metadata": {},
   "source": [
    "Load some of the basic libraries (we'll load others as we need them). "
   ]
  },
  {
   "cell_type": "code",
   "execution_count": 5,
   "metadata": {},
   "outputs": [],
   "source": [
    "from pyspark.sql import functions as func\n",
    "\n",
    "import numpy as np\n",
    "import matplotlib.pyplot as plt\n",
    "import pandas as pd"
   ]
  },
  {
   "cell_type": "markdown",
   "metadata": {},
   "source": [
    "Set some display options. "
   ]
  },
  {
   "cell_type": "code",
   "execution_count": 6,
   "metadata": {},
   "outputs": [],
   "source": [
    "# show plots inline\n",
    "%matplotlib inline"
   ]
  },
  {
   "cell_type": "markdown",
   "metadata": {},
   "source": [
    "Set some parameters.  "
   ]
  },
  {
   "cell_type": "code",
   "execution_count": 12,
   "metadata": {},
   "outputs": [],
   "source": [
    "seed = 1\n",
    "\n",
    "input_path = \"/home/fqaiser94/Data Engineer Challenge/location-data-sample/*.gz\""
   ]
  },
  {
   "cell_type": "markdown",
   "metadata": {},
   "source": [
    "Read in data as dataframe"
   ]
  },
  {
   "cell_type": "code",
   "execution_count": 15,
   "metadata": {},
   "outputs": [],
   "source": [
    "df = spark.read.json(input_path)"
   ]
  },
  {
   "cell_type": "markdown",
   "metadata": {},
   "source": [
    "## RDD vs Dataframe\n",
    "\n",
    "**RE: The expectation for this exercise is that you use Spark 2.x with Scala, Python, or Java. You can use the RDD or Dataframe APIs as you see fit, but please be ready to explain your choices.**  \n",
    "\n",
    "\n",
    "I chose to use the Dataframe API over RDD API because:  \n",
    "1. Dataframe API is able to take advantage of Spark’s Catalyst optimizer by exposing expressions and data fields to a query planner.\n",
    "2. Dataframe API has speed advantage in most cases (see [here](http://www.adsquare.com/comparing-performance-of-spark-dataframes-api-to-spark-rdd/)). \n",
    "3. I find Dataframes an easier construction to work with  "
   ]
  },
  {
   "cell_type": "markdown",
   "metadata": {},
   "source": [
    "## EDA\n",
    "\n",
    "Always helpful to do some EDA to understand our data before diving in.  \n",
    "Lets take a look at the dataframes schema.  "
   ]
  },
  {
   "cell_type": "code",
   "execution_count": 17,
   "metadata": {},
   "outputs": [
    {
     "name": "stdout",
     "output_type": "stream",
     "text": [
      "root\n",
      " |-- action: string (nullable = true)\n",
      " |-- api_key: string (nullable = true)\n",
      " |-- app_id: string (nullable = true)\n",
      " |-- beacon_major: long (nullable = true)\n",
      " |-- beacon_minor: long (nullable = true)\n",
      " |-- beacon_uuid: string (nullable = true)\n",
      " |-- city: string (nullable = true)\n",
      " |-- code: string (nullable = true)\n",
      " |-- community: string (nullable = true)\n",
      " |-- community_code: string (nullable = true)\n",
      " |-- country_code: string (nullable = true)\n",
      " |-- county: string (nullable = true)\n",
      " |-- county_code: string (nullable = true)\n",
      " |-- event_time: long (nullable = true)\n",
      " |-- geohash: string (nullable = true)\n",
      " |-- horizontal_accuracy: double (nullable = true)\n",
      " |-- idfa: string (nullable = true)\n",
      " |-- idfa_hash_alg: string (nullable = true)\n",
      " |-- lat: double (nullable = true)\n",
      " |-- lng: double (nullable = true)\n",
      " |-- place: string (nullable = true)\n",
      " |-- platform: string (nullable = true)\n",
      " |-- state: string (nullable = true)\n",
      " |-- state_code: string (nullable = true)\n",
      " |-- user_ip: string (nullable = true)\n",
      "\n"
     ]
    }
   ],
   "source": [
    "df.printSchema()"
   ]
  },
  {
   "cell_type": "markdown",
   "metadata": {},
   "source": [
    "Humm that's a lot of columns, let's take a peek at our data. "
   ]
  },
  {
   "cell_type": "code",
   "execution_count": 18,
   "metadata": {},
   "outputs": [
    {
     "name": "stdout",
     "output_type": "stream",
     "text": [
      "+--------------------+--------------------+--------------------+------------+------------+-----------+---------+-----+---------+--------------+------------+---------+-----------+----------+------------+-------------------+--------------------+-------------+-----------------+------------------+---------+--------+-------------+----------+--------------+\n",
      "|              action|             api_key|              app_id|beacon_major|beacon_minor|beacon_uuid|     city| code|community|community_code|country_code|   county|county_code|event_time|     geohash|horizontal_accuracy|                idfa|idfa_hash_alg|              lat|               lng|    place|platform|        state|state_code|       user_ip|\n",
      "+--------------------+--------------------+--------------------+------------+------------+-----------+---------+-----+---------+--------------+------------+---------+-----------+----------+------------+-------------------+--------------------+-------------+-----------------+------------------+---------+--------+-------------+----------+--------------+\n",
      "|         listrequest|9c4523f4cde116f32...|smartphones.colle...|           0|           0|           |Littleton|80123|         |              |          US|Jefferson|        059|1491066280|9xj32w4r1z1m|                0.0|c50ab245-d660-435...|             |       39.6289256|      -105.0920479|Littleton| android|     Colorado|        CO|184.96.241.157|\n",
      "|virtual_beacon_li...|9de1430e73cc96f15...|  com.airkast.kbxxfm|           0|           0|           |  Houston|77067|         |              |          US|   Harris|        201|1491066280|9vk47vts9tx0|                9.0|8c14186b-070d-493...|             |       29.9577723|        -95.452578|  Houston| android|        Texas|        TX|  45.18.76.214|\n",
      "|         listrequest|9c4523f4cde116f32...|smartphones.colle...|           0|           0|           |   Groton|01450|         |              |          US|Middlesex|        017|1491066280|drt4k62nrypf|                0.0|1ed5c7d3-6b7b-4cb...|             |        42.596473|       -71.5316391|   Groton| android|Massachusetts|        MA|174.192.25.246|\n",
      "|         listrequest|e9d18b6c1b97cd776...|   com.checkout51.rc|           0|           0|           |    Media|19063|         |              |          US| Delaware|        045|1491066280|dr475f915hgy|                0.0|9350ce13-d0a3-422...|             |39.91627493863395|-75.41963541249277|    Media|     ios| Pennsylvania|        PA|107.77.204.113|\n",
      "|         listrequest|9c4523f4cde116f32...|smartphones.colle...|           0|           0|           |  Paw Paw|49079|         |              |          US|Van Buren|        159|1491066280|dp6zvrr3u6wk|                0.0|a6e440f4-695b-42b...|             |       42.1836947|       -85.8919524|  Paw Paw| android|     Michigan|        MI| 50.107.82.231|\n",
      "+--------------------+--------------------+--------------------+------------+------------+-----------+---------+-----+---------+--------------+------------+---------+-----------+----------+------------+-------------------+--------------------+-------------+-----------------+------------------+---------+--------+-------------+----------+--------------+\n",
      "\n"
     ]
    }
   ],
   "source": [
    "df.limit(5).show()"
   ]
  },
  {
   "cell_type": "code",
   "execution_count": null,
   "metadata": {},
   "outputs": [],
   "source": []
  }
 ],
 "metadata": {
  "kernelspec": {
   "display_name": "Python 3",
   "language": "python",
   "name": "python3"
  },
  "language_info": {
   "codemirror_mode": {
    "name": "ipython",
    "version": 3
   },
   "file_extension": ".py",
   "mimetype": "text/x-python",
   "name": "python",
   "nbconvert_exporter": "python",
   "pygments_lexer": "ipython3",
   "version": "3.5.2"
  }
 },
 "nbformat": 4,
 "nbformat_minor": 2
}
